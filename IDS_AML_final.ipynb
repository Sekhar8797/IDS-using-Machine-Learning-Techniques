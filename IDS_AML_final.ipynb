{
 "cells": [
  {
   "cell_type": "code",
   "execution_count": 3,
   "metadata": {
    "colab": {
     "base_uri": "https://localhost:8080/"
    },
    "id": "Ssvn7qrXvaxL",
    "outputId": "2b307056-f6be-4d99-f2d9-7de04d47cd39"
   },
   "outputs": [],
   "source": [
    "import shutil\n",
    "from pathlib import Path\n",
    "\n",
    "data_path = \"./data/\""
   ]
  },
  {
   "cell_type": "code",
   "execution_count": 4,
   "metadata": {
    "id": "O0RFH5R5vpVC"
   },
   "outputs": [],
   "source": [
    "# imports for the notebook\n",
    "import numpy as np  \n",
    "import pandas as pd\n",
    "import matplotlib.pyplot as plt\n",
    "import seaborn as sns\n",
    "from scipy import stats\n",
    "\n",
    "from sklearn.preprocessing import StandardScaler\n",
    "from sklearn.preprocessing import LabelEncoder, OneHotEncoder\n",
    "\n",
    "import pickle\n",
    "import warnings\n",
    "warnings.filterwarnings(\"ignore\")\n"
   ]
  },
  {
   "cell_type": "markdown",
   "metadata": {
    "id": "uYESmBm5Kq7e"
   },
   "source": [
    "## Loading the dataset"
   ]
  },
  {
   "cell_type": "code",
   "execution_count": 5,
   "metadata": {
    "id": "XOlTxCKZvpjs"
   },
   "outputs": [],
   "source": [
    "# load the dataset\n",
    "individual_data_frames = []\n",
    "\n",
    "files_count = range(4)\n",
    "for i in files_count:\n",
    "  file_path = data_path + 'UNSW-NB15_'+str(i+1)+'.csv'\n",
    "  individual_data_frames.append(pd.read_csv(file_path,header=None))\n",
    "\n",
    "combined_dfs = pd.concat(individual_data_frames).reset_index(drop=True)"
   ]
  },
  {
   "cell_type": "code",
   "execution_count": 6,
   "metadata": {
    "id": "D9jvo1RKvptI"
   },
   "outputs": [],
   "source": [
    "# load the feature names\n",
    "features = pd.read_csv(data_path +'/NUSW-NB15_features.csv',encoding=\"latin-1\")"
   ]
  },
  {
   "cell_type": "code",
   "execution_count": 7,
   "metadata": {
    "id": "HkZ4A1OVvpv4"
   },
   "outputs": [],
   "source": [
    "# change the feature names to lowercase and remove blank characters\n",
    "features['Name'] = features['Name'].apply(lambda x: x.lower().strip().replace(' ', ''))"
   ]
  },
  {
   "cell_type": "code",
   "execution_count": 8,
   "metadata": {
    "id": "b-q5tnINBzMN"
   },
   "outputs": [],
   "source": [
    "# Columns to be used for transforming test data\n",
    "saved_columns = features['Name'][features['Name']!='label'].tolist()"
   ]
  },
  {
   "cell_type": "code",
   "execution_count": 9,
   "metadata": {
    "colab": {
     "base_uri": "https://localhost:8080/",
     "height": 236
    },
    "id": "VSc4kM5gvpx9",
    "outputId": "50f57807-63fb-4a6d-a37f-f732b15224e8"
   },
   "outputs": [
    {
     "data": {
      "text/html": [
       "<div>\n",
       "<style scoped>\n",
       "    .dataframe tbody tr th:only-of-type {\n",
       "        vertical-align: middle;\n",
       "    }\n",
       "\n",
       "    .dataframe tbody tr th {\n",
       "        vertical-align: top;\n",
       "    }\n",
       "\n",
       "    .dataframe thead th {\n",
       "        text-align: right;\n",
       "    }\n",
       "</style>\n",
       "<table border=\"1\" class=\"dataframe\">\n",
       "  <thead>\n",
       "    <tr style=\"text-align: right;\">\n",
       "      <th></th>\n",
       "      <th>0</th>\n",
       "      <th>1</th>\n",
       "      <th>2</th>\n",
       "      <th>3</th>\n",
       "      <th>4</th>\n",
       "      <th>5</th>\n",
       "      <th>6</th>\n",
       "      <th>7</th>\n",
       "      <th>8</th>\n",
       "      <th>9</th>\n",
       "      <th>...</th>\n",
       "      <th>39</th>\n",
       "      <th>40</th>\n",
       "      <th>41</th>\n",
       "      <th>42</th>\n",
       "      <th>43</th>\n",
       "      <th>44</th>\n",
       "      <th>45</th>\n",
       "      <th>46</th>\n",
       "      <th>47</th>\n",
       "      <th>48</th>\n",
       "    </tr>\n",
       "  </thead>\n",
       "  <tbody>\n",
       "    <tr>\n",
       "      <th>0</th>\n",
       "      <td>59.166.0.0</td>\n",
       "      <td>1390</td>\n",
       "      <td>149.171.126.6</td>\n",
       "      <td>53</td>\n",
       "      <td>udp</td>\n",
       "      <td>CON</td>\n",
       "      <td>0.001055</td>\n",
       "      <td>132</td>\n",
       "      <td>164</td>\n",
       "      <td>31</td>\n",
       "      <td>...</td>\n",
       "      <td>0</td>\n",
       "      <td>3</td>\n",
       "      <td>7</td>\n",
       "      <td>1</td>\n",
       "      <td>3</td>\n",
       "      <td>1</td>\n",
       "      <td>1</td>\n",
       "      <td>1</td>\n",
       "      <td>NaN</td>\n",
       "      <td>0</td>\n",
       "    </tr>\n",
       "    <tr>\n",
       "      <th>1</th>\n",
       "      <td>59.166.0.0</td>\n",
       "      <td>33661</td>\n",
       "      <td>149.171.126.9</td>\n",
       "      <td>1024</td>\n",
       "      <td>udp</td>\n",
       "      <td>CON</td>\n",
       "      <td>0.036133</td>\n",
       "      <td>528</td>\n",
       "      <td>304</td>\n",
       "      <td>31</td>\n",
       "      <td>...</td>\n",
       "      <td>0</td>\n",
       "      <td>2</td>\n",
       "      <td>4</td>\n",
       "      <td>2</td>\n",
       "      <td>3</td>\n",
       "      <td>1</td>\n",
       "      <td>1</td>\n",
       "      <td>2</td>\n",
       "      <td>NaN</td>\n",
       "      <td>0</td>\n",
       "    </tr>\n",
       "    <tr>\n",
       "      <th>2</th>\n",
       "      <td>59.166.0.6</td>\n",
       "      <td>1464</td>\n",
       "      <td>149.171.126.7</td>\n",
       "      <td>53</td>\n",
       "      <td>udp</td>\n",
       "      <td>CON</td>\n",
       "      <td>0.001119</td>\n",
       "      <td>146</td>\n",
       "      <td>178</td>\n",
       "      <td>31</td>\n",
       "      <td>...</td>\n",
       "      <td>0</td>\n",
       "      <td>12</td>\n",
       "      <td>8</td>\n",
       "      <td>1</td>\n",
       "      <td>2</td>\n",
       "      <td>2</td>\n",
       "      <td>1</td>\n",
       "      <td>1</td>\n",
       "      <td>NaN</td>\n",
       "      <td>0</td>\n",
       "    </tr>\n",
       "    <tr>\n",
       "      <th>3</th>\n",
       "      <td>59.166.0.5</td>\n",
       "      <td>3593</td>\n",
       "      <td>149.171.126.5</td>\n",
       "      <td>53</td>\n",
       "      <td>udp</td>\n",
       "      <td>CON</td>\n",
       "      <td>0.001209</td>\n",
       "      <td>132</td>\n",
       "      <td>164</td>\n",
       "      <td>31</td>\n",
       "      <td>...</td>\n",
       "      <td>0</td>\n",
       "      <td>6</td>\n",
       "      <td>9</td>\n",
       "      <td>1</td>\n",
       "      <td>1</td>\n",
       "      <td>1</td>\n",
       "      <td>1</td>\n",
       "      <td>1</td>\n",
       "      <td>NaN</td>\n",
       "      <td>0</td>\n",
       "    </tr>\n",
       "    <tr>\n",
       "      <th>4</th>\n",
       "      <td>59.166.0.3</td>\n",
       "      <td>49664</td>\n",
       "      <td>149.171.126.0</td>\n",
       "      <td>53</td>\n",
       "      <td>udp</td>\n",
       "      <td>CON</td>\n",
       "      <td>0.001169</td>\n",
       "      <td>146</td>\n",
       "      <td>178</td>\n",
       "      <td>31</td>\n",
       "      <td>...</td>\n",
       "      <td>0</td>\n",
       "      <td>7</td>\n",
       "      <td>9</td>\n",
       "      <td>1</td>\n",
       "      <td>1</td>\n",
       "      <td>1</td>\n",
       "      <td>1</td>\n",
       "      <td>1</td>\n",
       "      <td>NaN</td>\n",
       "      <td>0</td>\n",
       "    </tr>\n",
       "  </tbody>\n",
       "</table>\n",
       "<p>5 rows × 49 columns</p>\n",
       "</div>"
      ],
      "text/plain": [
       "           0      1              2     3    4    5         6    7    8   9   \\\n",
       "0  59.166.0.0   1390  149.171.126.6    53  udp  CON  0.001055  132  164  31   \n",
       "1  59.166.0.0  33661  149.171.126.9  1024  udp  CON  0.036133  528  304  31   \n",
       "2  59.166.0.6   1464  149.171.126.7    53  udp  CON  0.001119  146  178  31   \n",
       "3  59.166.0.5   3593  149.171.126.5    53  udp  CON  0.001209  132  164  31   \n",
       "4  59.166.0.3  49664  149.171.126.0    53  udp  CON  0.001169  146  178  31   \n",
       "\n",
       "   ...  39  40  41 42  43  44  45  46   47  48  \n",
       "0  ...   0   3   7  1   3   1   1   1  NaN   0  \n",
       "1  ...   0   2   4  2   3   1   1   2  NaN   0  \n",
       "2  ...   0  12   8  1   2   2   1   1  NaN   0  \n",
       "3  ...   0   6   9  1   1   1   1   1  NaN   0  \n",
       "4  ...   0   7   9  1   1   1   1   1  NaN   0  \n",
       "\n",
       "[5 rows x 49 columns]"
      ]
     },
     "execution_count": 9,
     "metadata": {},
     "output_type": "execute_result"
    }
   ],
   "source": [
    "combined_dfs.head()"
   ]
  },
  {
   "cell_type": "code",
   "execution_count": 10,
   "metadata": {
    "colab": {
     "base_uri": "https://localhost:8080/",
     "height": 300
    },
    "id": "sdYbCczN-_jS",
    "outputId": "94d1df81-7b17-4068-e169-2e8288e9abca"
   },
   "outputs": [
    {
     "data": {
      "text/html": [
       "<div>\n",
       "<style scoped>\n",
       "    .dataframe tbody tr th:only-of-type {\n",
       "        vertical-align: middle;\n",
       "    }\n",
       "\n",
       "    .dataframe tbody tr th {\n",
       "        vertical-align: top;\n",
       "    }\n",
       "\n",
       "    .dataframe thead th {\n",
       "        text-align: right;\n",
       "    }\n",
       "</style>\n",
       "<table border=\"1\" class=\"dataframe\">\n",
       "  <thead>\n",
       "    <tr style=\"text-align: right;\">\n",
       "      <th>Name</th>\n",
       "      <th>srcip</th>\n",
       "      <th>sport</th>\n",
       "      <th>dstip</th>\n",
       "      <th>dsport</th>\n",
       "      <th>proto</th>\n",
       "      <th>state</th>\n",
       "      <th>dur</th>\n",
       "      <th>sbytes</th>\n",
       "      <th>dbytes</th>\n",
       "      <th>sttl</th>\n",
       "      <th>...</th>\n",
       "      <th>ct_ftp_cmd</th>\n",
       "      <th>ct_srv_src</th>\n",
       "      <th>ct_srv_dst</th>\n",
       "      <th>ct_dst_ltm</th>\n",
       "      <th>ct_src_ltm</th>\n",
       "      <th>ct_src_dport_ltm</th>\n",
       "      <th>ct_dst_sport_ltm</th>\n",
       "      <th>ct_dst_src_ltm</th>\n",
       "      <th>attack_cat</th>\n",
       "      <th>label</th>\n",
       "    </tr>\n",
       "  </thead>\n",
       "  <tbody>\n",
       "    <tr>\n",
       "      <th>0</th>\n",
       "      <td>59.166.0.0</td>\n",
       "      <td>1390</td>\n",
       "      <td>149.171.126.6</td>\n",
       "      <td>53</td>\n",
       "      <td>udp</td>\n",
       "      <td>CON</td>\n",
       "      <td>0.001055</td>\n",
       "      <td>132</td>\n",
       "      <td>164</td>\n",
       "      <td>31</td>\n",
       "      <td>...</td>\n",
       "      <td>0</td>\n",
       "      <td>3</td>\n",
       "      <td>7</td>\n",
       "      <td>1</td>\n",
       "      <td>3</td>\n",
       "      <td>1</td>\n",
       "      <td>1</td>\n",
       "      <td>1</td>\n",
       "      <td>NaN</td>\n",
       "      <td>0</td>\n",
       "    </tr>\n",
       "    <tr>\n",
       "      <th>1</th>\n",
       "      <td>59.166.0.0</td>\n",
       "      <td>33661</td>\n",
       "      <td>149.171.126.9</td>\n",
       "      <td>1024</td>\n",
       "      <td>udp</td>\n",
       "      <td>CON</td>\n",
       "      <td>0.036133</td>\n",
       "      <td>528</td>\n",
       "      <td>304</td>\n",
       "      <td>31</td>\n",
       "      <td>...</td>\n",
       "      <td>0</td>\n",
       "      <td>2</td>\n",
       "      <td>4</td>\n",
       "      <td>2</td>\n",
       "      <td>3</td>\n",
       "      <td>1</td>\n",
       "      <td>1</td>\n",
       "      <td>2</td>\n",
       "      <td>NaN</td>\n",
       "      <td>0</td>\n",
       "    </tr>\n",
       "    <tr>\n",
       "      <th>2</th>\n",
       "      <td>59.166.0.6</td>\n",
       "      <td>1464</td>\n",
       "      <td>149.171.126.7</td>\n",
       "      <td>53</td>\n",
       "      <td>udp</td>\n",
       "      <td>CON</td>\n",
       "      <td>0.001119</td>\n",
       "      <td>146</td>\n",
       "      <td>178</td>\n",
       "      <td>31</td>\n",
       "      <td>...</td>\n",
       "      <td>0</td>\n",
       "      <td>12</td>\n",
       "      <td>8</td>\n",
       "      <td>1</td>\n",
       "      <td>2</td>\n",
       "      <td>2</td>\n",
       "      <td>1</td>\n",
       "      <td>1</td>\n",
       "      <td>NaN</td>\n",
       "      <td>0</td>\n",
       "    </tr>\n",
       "    <tr>\n",
       "      <th>3</th>\n",
       "      <td>59.166.0.5</td>\n",
       "      <td>3593</td>\n",
       "      <td>149.171.126.5</td>\n",
       "      <td>53</td>\n",
       "      <td>udp</td>\n",
       "      <td>CON</td>\n",
       "      <td>0.001209</td>\n",
       "      <td>132</td>\n",
       "      <td>164</td>\n",
       "      <td>31</td>\n",
       "      <td>...</td>\n",
       "      <td>0</td>\n",
       "      <td>6</td>\n",
       "      <td>9</td>\n",
       "      <td>1</td>\n",
       "      <td>1</td>\n",
       "      <td>1</td>\n",
       "      <td>1</td>\n",
       "      <td>1</td>\n",
       "      <td>NaN</td>\n",
       "      <td>0</td>\n",
       "    </tr>\n",
       "    <tr>\n",
       "      <th>4</th>\n",
       "      <td>59.166.0.3</td>\n",
       "      <td>49664</td>\n",
       "      <td>149.171.126.0</td>\n",
       "      <td>53</td>\n",
       "      <td>udp</td>\n",
       "      <td>CON</td>\n",
       "      <td>0.001169</td>\n",
       "      <td>146</td>\n",
       "      <td>178</td>\n",
       "      <td>31</td>\n",
       "      <td>...</td>\n",
       "      <td>0</td>\n",
       "      <td>7</td>\n",
       "      <td>9</td>\n",
       "      <td>1</td>\n",
       "      <td>1</td>\n",
       "      <td>1</td>\n",
       "      <td>1</td>\n",
       "      <td>1</td>\n",
       "      <td>NaN</td>\n",
       "      <td>0</td>\n",
       "    </tr>\n",
       "  </tbody>\n",
       "</table>\n",
       "<p>5 rows × 49 columns</p>\n",
       "</div>"
      ],
      "text/plain": [
       "Name       srcip  sport          dstip dsport proto state       dur  sbytes  \\\n",
       "0     59.166.0.0   1390  149.171.126.6     53   udp   CON  0.001055     132   \n",
       "1     59.166.0.0  33661  149.171.126.9   1024   udp   CON  0.036133     528   \n",
       "2     59.166.0.6   1464  149.171.126.7     53   udp   CON  0.001119     146   \n",
       "3     59.166.0.5   3593  149.171.126.5     53   udp   CON  0.001209     132   \n",
       "4     59.166.0.3  49664  149.171.126.0     53   udp   CON  0.001169     146   \n",
       "\n",
       "Name  dbytes  sttl  ...  ct_ftp_cmd  ct_srv_src  ct_srv_dst ct_dst_ltm  \\\n",
       "0        164    31  ...           0           3           7          1   \n",
       "1        304    31  ...           0           2           4          2   \n",
       "2        178    31  ...           0          12           8          1   \n",
       "3        164    31  ...           0           6           9          1   \n",
       "4        178    31  ...           0           7           9          1   \n",
       "\n",
       "Name  ct_src_ltm  ct_src_dport_ltm  ct_dst_sport_ltm  ct_dst_src_ltm  \\\n",
       "0              3                 1                 1               1   \n",
       "1              3                 1                 1               2   \n",
       "2              2                 2                 1               1   \n",
       "3              1                 1                 1               1   \n",
       "4              1                 1                 1               1   \n",
       "\n",
       "Name  attack_cat  label  \n",
       "0            NaN      0  \n",
       "1            NaN      0  \n",
       "2            NaN      0  \n",
       "3            NaN      0  \n",
       "4            NaN      0  \n",
       "\n",
       "[5 rows x 49 columns]"
      ]
     },
     "execution_count": 10,
     "metadata": {},
     "output_type": "execute_result"
    }
   ],
   "source": [
    "# rename the column names to feature names \n",
    "combined_dfs.columns = features['Name']\n",
    "\n",
    "combined_dfs.head()"
   ]
  },
  {
   "cell_type": "code",
   "execution_count": 11,
   "metadata": {
    "id": "grezwb7XC_53"
   },
   "outputs": [],
   "source": [
    "# split the data into train and test sets\n",
    "from sklearn.model_selection import train_test_split\n",
    "\n",
    "train, test = train_test_split(combined_dfs, test_size=0.35, random_state=7)"
   ]
  },
  {
   "cell_type": "code",
   "execution_count": 12,
   "metadata": {
    "colab": {
     "base_uri": "https://localhost:8080/"
    },
    "id": "YIOtsv_cOZer",
    "outputId": "4f3d8c88-3697-4182-e9cf-62562e85568a"
   },
   "outputs": [
    {
     "name": "stdout",
     "output_type": "stream",
     "text": [
      "(1651030, 49)\n",
      "(889017, 49)\n",
      "test\n"
     ]
    }
   ],
   "source": [
    "print(train.shape)\n",
    "print(test.shape)\n",
    "print(\"test\")"
   ]
  },
  {
   "cell_type": "markdown",
   "metadata": {
    "id": "88ZaFYuQ_4zW"
   },
   "source": [
    "## Cleaning the data"
   ]
  },
  {
   "cell_type": "code",
   "execution_count": 13,
   "metadata": {
    "colab": {
     "base_uri": "https://localhost:8080/"
    },
    "id": "QDiHwGgk_gG-",
    "outputId": "bf827676-dce1-4928-e386-c0ffd3199577"
   },
   "outputs": [
    {
     "data": {
      "text/plain": [
       "Name\n",
       "srcip                     0\n",
       "sport                     0\n",
       "dstip                     0\n",
       "dsport                    0\n",
       "proto                     0\n",
       "state                     0\n",
       "dur                       0\n",
       "sbytes                    0\n",
       "dbytes                    0\n",
       "sttl                      0\n",
       "dttl                      0\n",
       "sloss                     0\n",
       "dloss                     0\n",
       "service                   0\n",
       "sload                     0\n",
       "dload                     0\n",
       "spkts                     0\n",
       "dpkts                     0\n",
       "swin                      0\n",
       "dwin                      0\n",
       "stcpb                     0\n",
       "dtcpb                     0\n",
       "smeansz                   0\n",
       "dmeansz                   0\n",
       "trans_depth               0\n",
       "res_bdy_len               0\n",
       "sjit                      0\n",
       "djit                      0\n",
       "stime                     0\n",
       "ltime                     0\n",
       "sintpkt                   0\n",
       "dintpkt                   0\n",
       "tcprtt                    0\n",
       "synack                    0\n",
       "ackdat                    0\n",
       "is_sm_ips_ports           0\n",
       "ct_state_ttl              0\n",
       "ct_flw_http_mthd     876169\n",
       "is_ftp_login         929327\n",
       "ct_ftp_cmd                0\n",
       "ct_srv_src                0\n",
       "ct_srv_dst                0\n",
       "ct_dst_ltm                0\n",
       "ct_src_ltm                0\n",
       "ct_src_dport_ltm          0\n",
       "ct_dst_sport_ltm          0\n",
       "ct_dst_src_ltm            0\n",
       "attack_cat          1442045\n",
       "label                     0\n",
       "dtype: int64"
      ]
     },
     "execution_count": 13,
     "metadata": {},
     "output_type": "execute_result"
    }
   ],
   "source": [
    "# check the dataset for null values\n",
    "train.isnull().sum()"
   ]
  },
  {
   "cell_type": "code",
   "execution_count": 14,
   "metadata": {
    "colab": {
     "base_uri": "https://localhost:8080/"
    },
    "id": "P1knw_nKTZvc",
    "outputId": "2f05e4b4-561b-408f-ee15-bca75e7c1708"
   },
   "outputs": [
    {
     "data": {
      "text/plain": [
       "876169"
      ]
     },
     "execution_count": 14,
     "metadata": {},
     "output_type": "execute_result"
    }
   ],
   "source": [
    "# no. of null values in ct_flw_http_mthd\n",
    "train['ct_flw_http_mthd'].isnull().sum()"
   ]
  },
  {
   "cell_type": "code",
   "execution_count": 15,
   "metadata": {
    "id": "pF528jR0Uos0"
   },
   "outputs": [],
   "source": [
    "train['ct_flw_http_mthd'] = train.ct_flw_http_mthd.fillna(value=0)"
   ]
  },
  {
   "cell_type": "code",
   "execution_count": 16,
   "metadata": {
    "colab": {
     "base_uri": "https://localhost:8080/"
    },
    "id": "qm7cxJxwUwp-",
    "outputId": "65096ed5-22d5-41af-ce99-9cabe6422762"
   },
   "outputs": [
    {
     "data": {
      "text/plain": [
       "0"
      ]
     },
     "execution_count": 16,
     "metadata": {},
     "output_type": "execute_result"
    }
   ],
   "source": [
    "# no. of null values in ct_flw_http_mthd\n",
    "train['ct_flw_http_mthd'].isnull().sum()"
   ]
  },
  {
   "cell_type": "code",
   "execution_count": 17,
   "metadata": {
    "colab": {
     "base_uri": "https://localhost:8080/"
    },
    "id": "wgvlAC9bVGiy",
    "outputId": "bcef6b43-db3c-43b0-a963-16a40c79b4cf"
   },
   "outputs": [
    {
     "data": {
      "text/plain": [
       "929327"
      ]
     },
     "execution_count": 17,
     "metadata": {},
     "output_type": "execute_result"
    }
   ],
   "source": [
    "# no. of null values in is_ftp_login\n",
    "train['is_ftp_login'].isnull().sum()"
   ]
  },
  {
   "cell_type": "code",
   "execution_count": 18,
   "metadata": {
    "id": "SCEVEO6IVOaJ"
   },
   "outputs": [],
   "source": [
    "train['is_ftp_login'] = train.is_ftp_login.fillna(value=0)"
   ]
  },
  {
   "cell_type": "code",
   "execution_count": 19,
   "metadata": {
    "colab": {
     "base_uri": "https://localhost:8080/"
    },
    "id": "fqddVNtIVXuL",
    "outputId": "2b79dade-083d-4fde-e897-676b364052a4"
   },
   "outputs": [
    {
     "data": {
      "text/plain": [
       "0"
      ]
     },
     "execution_count": 19,
     "metadata": {},
     "output_type": "execute_result"
    }
   ],
   "source": [
    "# no. of null values in is_ftp_login\n",
    "train['is_ftp_login'].isnull().sum()"
   ]
  },
  {
   "cell_type": "code",
   "execution_count": 20,
   "metadata": {
    "colab": {
     "base_uri": "https://localhost:8080/"
    },
    "id": "Z1C6s-QhVags",
    "outputId": "601eae2a-8c09-4f15-befc-20d9d51d2433"
   },
   "outputs": [
    {
     "data": {
      "text/plain": [
       "1442045"
      ]
     },
     "execution_count": 20,
     "metadata": {},
     "output_type": "execute_result"
    }
   ],
   "source": [
    "# no. of null values in attack_cat\n",
    "train['attack_cat'].isnull().sum()"
   ]
  },
  {
   "cell_type": "code",
   "execution_count": 21,
   "metadata": {
    "id": "fa8CqORnVwO3"
   },
   "outputs": [],
   "source": [
    "# attack category should be N/A for entries with null values\n",
    "train['attack_cat'] = train.attack_cat.fillna(value='n/a').apply(lambda x: x.strip().lower())"
   ]
  },
  {
   "cell_type": "code",
   "execution_count": 22,
   "metadata": {
    "colab": {
     "base_uri": "https://localhost:8080/"
    },
    "id": "aBh9Ua38WA5N",
    "outputId": "df74d6ec-66f7-416d-e660-0802bb6c78a6"
   },
   "outputs": [
    {
     "data": {
      "text/plain": [
       "0"
      ]
     },
     "execution_count": 22,
     "metadata": {},
     "output_type": "execute_result"
    }
   ],
   "source": [
    "# no. of null values in attack_cat\n",
    "train['attack_cat'].isnull().sum()"
   ]
  },
  {
   "cell_type": "code",
   "execution_count": 23,
   "metadata": {
    "colab": {
     "base_uri": "https://localhost:8080/"
    },
    "id": "bShK6cweWDPl",
    "outputId": "d18d956e-9f2c-47a7-d5d7-2cd51afae9dc"
   },
   "outputs": [
    {
     "data": {
      "text/plain": [
       "Index(['srcip', 'sport', 'dstip', 'dsport', 'proto', 'state', 'service',\n",
       "       'ct_ftp_cmd', 'attack_cat'],\n",
       "      dtype='object', name='Name')"
      ]
     },
     "execution_count": 23,
     "metadata": {},
     "output_type": "execute_result"
    }
   ],
   "source": [
    "train.select_dtypes(include=object).columns"
   ]
  },
  {
   "cell_type": "code",
   "execution_count": 24,
   "metadata": {
    "colab": {
     "base_uri": "https://localhost:8080/"
    },
    "id": "q1LzXepy7IYv",
    "outputId": "87dc36ca-a7bb-429c-f13e-c3c7d6463f16"
   },
   "outputs": [
    {
     "data": {
      "text/plain": [
       "array(['59.166.0.6', '175.45.176.1', '59.166.0.7', '59.166.0.0',\n",
       "       '149.171.126.18', '59.166.0.9', '59.166.0.5', '59.166.0.8',\n",
       "       '59.166.0.4', '149.171.126.14', '59.166.0.2', '59.166.0.1',\n",
       "       '175.45.176.3', '59.166.0.3', '149.171.126.15', '175.45.176.2',\n",
       "       '175.45.176.0', '10.40.182.3', '149.171.126.10', '10.40.85.30',\n",
       "       '10.40.85.1', '149.171.126.12', '10.40.85.10', '10.40.182.1',\n",
       "       '10.40.170.2', '10.40.182.6', '149.171.126.5', '149.171.126.7',\n",
       "       '149.171.126.6', '149.171.126.9', '149.171.126.2', '149.171.126.4',\n",
       "       '149.171.126.13', '149.171.126.1', '149.171.126.3',\n",
       "       '149.171.126.8', '192.168.241.243', '149.171.126.0',\n",
       "       '149.171.126.16', '149.171.126.19', '149.171.126.17',\n",
       "       '149.171.126.11', '127.0.0.1'], dtype=object)"
      ]
     },
     "execution_count": 24,
     "metadata": {},
     "output_type": "execute_result"
    }
   ],
   "source": [
    "train['srcip'].unique()"
   ]
  },
  {
   "cell_type": "code",
   "execution_count": 25,
   "metadata": {
    "colab": {
     "base_uri": "https://localhost:8080/"
    },
    "id": "mE3gH4IG7ISP",
    "outputId": "6e811438-a4d8-49ad-abab-1eac46ddb903"
   },
   "outputs": [
    {
     "data": {
      "text/plain": [
       "array([36300, 57700, 36667, ..., '18838', '30850', '22738'], dtype=object)"
      ]
     },
     "execution_count": 25,
     "metadata": {},
     "output_type": "execute_result"
    }
   ],
   "source": [
    "train['sport'].unique()\n",
    "\n",
    "# source port - sport should be a numerical value \n",
    "# convert all the non numerical values to numerical values"
   ]
  },
  {
   "cell_type": "code",
   "execution_count": 26,
   "metadata": {
    "colab": {
     "base_uri": "https://localhost:8080/"
    },
    "id": "loa93fR09omo",
    "outputId": "e6ad3843-78d9-4517-d633-f8fd3fbceb88"
   },
   "outputs": [
    {
     "name": "stdout",
     "output_type": "stream",
     "text": [
      "{<class 'int'>: 1608197, <class 'str'>: 42833}\n",
      "Cannot convert - to int.\n",
      "Cannot convert 0x000c to int.\n",
      "Cannot convert 0x000c to int.\n",
      "Cannot convert 0x000c to int.\n",
      "Cannot convert 0x000b to int.\n",
      "Cannot convert 0x000b to int.\n",
      "Can convert 42827 strings to int.\n"
     ]
    },
    {
     "data": {
      "text/plain": [
       "array([36300, 57700, 36667, ...,   356,   297,   225])"
      ]
     },
     "execution_count": 26,
     "metadata": {},
     "output_type": "execute_result"
    }
   ],
   "source": [
    "value_types = {}\n",
    "for name, values in train.iteritems():\n",
    "  if name == 'sport':\n",
    "    for val in values:\n",
    "      if type(val) not in value_types:\n",
    "        value_types[type(val)] = 1\n",
    "      else:\n",
    "        value_types[type(val)] += 1\n",
    "\n",
    "print(value_types)\n",
    "\n",
    "# check how many string values can be converted to numbers\n",
    "str_to_int = 0\n",
    "for name, values in train.iteritems():\n",
    "  if name == 'sport':\n",
    "    for val in values:\n",
    "      if isinstance(val, str):\n",
    "        try:\n",
    "          int(val)\n",
    "          str_to_int += 1\n",
    "        except ValueError:\n",
    "          print(\"Cannot convert \"+val+\" to int.\")\n",
    "\n",
    "print(\"Can convert \"+str(str_to_int)+\" strings to int.\")\n",
    "\n",
    "# clean values\n",
    "# convert hex values to decimal values\n",
    "train['sport'] = train['sport'].apply(lambda x:int(x,16) if isinstance(x, str) and x.startswith('0x') else x)\n",
    "# remove hyphen\n",
    "train['sport'] = train['sport'].apply(lambda x:0 if x==\"-\" else x)\n",
    "# convert strings to int\n",
    "train['sport'] = train['sport'].apply(lambda x:int(x) if isinstance(x, str) else x)\n",
    "\n",
    "train['sport'].unique()\n",
    "\n"
   ]
  },
  {
   "cell_type": "code",
   "execution_count": 27,
   "metadata": {
    "colab": {
     "base_uri": "https://localhost:8080/"
    },
    "id": "b6btCrY07IP5",
    "outputId": "7bc70796-bfb1-4e94-93f5-ea347c9a6cc6"
   },
   "outputs": [
    {
     "data": {
      "text/plain": [
       "array(['149.171.126.5', '149.171.126.13', '149.171.126.7',\n",
       "       '149.171.126.4', '175.45.176.3', '149.171.126.8', '149.171.126.1',\n",
       "       '149.171.126.9', '149.171.126.6', '149.171.126.17', '175.45.176.1',\n",
       "       '149.171.126.0', '149.171.126.19', '149.171.126.10',\n",
       "       '149.171.126.2', '149.171.126.14', '149.171.126.3',\n",
       "       '149.171.126.15', '149.171.126.11', '149.171.126.18',\n",
       "       '149.171.126.16', '10.40.182.3', '175.45.176.0', '10.40.85.1',\n",
       "       '10.40.85.30', '149.171.126.12', '10.40.198.10', '224.0.0.5',\n",
       "       '10.40.170.2', '192.168.241.50', '10.40.182.255', '59.166.0.6',\n",
       "       '59.166.0.3', '59.166.0.2', '175.45.176.2', '59.166.0.0',\n",
       "       '59.166.0.1', '59.166.0.4', '224.0.0.1', '59.166.0.5',\n",
       "       '59.166.0.8', '192.168.241.243', '59.166.0.7', '59.166.0.9',\n",
       "       '32.50.32.66', '10.40.182.6', '127.0.0.1'], dtype=object)"
      ]
     },
     "execution_count": 27,
     "metadata": {},
     "output_type": "execute_result"
    }
   ],
   "source": [
    "train['dstip'].unique()"
   ]
  },
  {
   "cell_type": "code",
   "execution_count": 28,
   "metadata": {
    "colab": {
     "base_uri": "https://localhost:8080/"
    },
    "id": "j2MWrGEE7INC",
    "outputId": "07af1c66-998c-44dd-a53e-4e57d2789736"
   },
   "outputs": [
    {
     "data": {
      "text/plain": [
       "array(['53', '80', 6881, ..., '62839', '62266', 60035], dtype=object)"
      ]
     },
     "execution_count": 28,
     "metadata": {},
     "output_type": "execute_result"
    }
   ],
   "source": [
    "train['dsport'].unique()"
   ]
  },
  {
   "cell_type": "code",
   "execution_count": 29,
   "metadata": {
    "colab": {
     "base_uri": "https://localhost:8080/"
    },
    "id": "YCKYnzBl7IGV",
    "outputId": "24dd850c-dec5-461d-c25a-e1d4e57fc7c8"
   },
   "outputs": [
    {
     "data": {
      "text/plain": [
       "array(['udp', 'tcp', 'unas', 'swipe', 'pim', 'ospf', 'arp', 'sctp',\n",
       "       'mfe-nsp', 'pipe', 'ipip', 'vmtp', 'icmp', 'dcn', 'fc', 'sps',\n",
       "       'snp', 'sep', 'gre', 'uti', 'st2', 'narp', 'compaq-peer', 'sun-nd',\n",
       "       'ggp', 'egp', 'iatp', 'br-sat-mon', 'zero', 'bna', 'eigrp', 'idpr',\n",
       "       'ddp', 'vines', 'pri-enc', 'any', 'qnx', 'ipnip', 'gmtp', 'skip',\n",
       "       'srp', 'sat-expak', 'ipcv', 'iso-tp4', 'ippc', 'vrrp', 'crtp',\n",
       "       'smp', 'xtp', 'cphb', 'prm', 'ip', 'isis', 'mux', 'etherip',\n",
       "       'aris', 'ttp', 'ipv6-opts', 'wb-expak', 'ib', 'wsn', 'ipv6-route',\n",
       "       'igmp', 'ipv6', 'ax.25', 'argus', 'leaf-2', 'tlsp', 'cbt', 'irtp',\n",
       "       'ipx-n-ip', 'nvp', 'bbn-rcc', 'idrp', 'secure-vmtp', 'tcf', 'dgp',\n",
       "       'idpr-cmtp', 'pvp', 'emcon', 'xns-idp', 'netblt', 'xnet',\n",
       "       'aes-sp3-d', 'visa', 'iplt', 'ipcomp', 'merit-inp', 'rsvp', 'cftp',\n",
       "       'trunk-1', 'l2tp', 'mhrp', 'pgm', 'encap', 'leaf-1', 'larp',\n",
       "       'scps', 'igp', 'sccopmce', 'micp', 'ipv6-frag', 'a/n', 'ipv6-no',\n",
       "       'cpnx', 'trunk-2', 'fire', 'iso-ip', 'mtp', 'mobile', 'kryptolan',\n",
       "       'il', 'rvd', 'ptp', 'i-nlsp', 'sprite-rpc', 'sat-mon', 'rdp',\n",
       "       'crudp', 'stp', 'ddx', 'nsfnet-igp', 'tp++', 'chaos', 'pup', 'hmp',\n",
       "       'ifmp', '3pc', 'sm', 'wb-mon', 'sdrp', 'pnni', 'esp', 'udt', 'rtp'],\n",
       "      dtype=object)"
      ]
     },
     "execution_count": 29,
     "metadata": {},
     "output_type": "execute_result"
    }
   ],
   "source": [
    "train['proto'].unique()"
   ]
  },
  {
   "cell_type": "code",
   "execution_count": 30,
   "metadata": {
    "colab": {
     "base_uri": "https://localhost:8080/"
    },
    "id": "0z5bz1QP7H8k",
    "outputId": "6e15469e-5f36-49ab-c9ba-78183164402f"
   },
   "outputs": [
    {
     "data": {
      "text/plain": [
       "array(['CON', 'FIN', 'INT', 'REQ', 'ECO', 'PAR', 'RST', 'CLO', 'URH',\n",
       "       'ACC', 'TST', 'ECR', 'URN', 'no', 'TXD', 'MAS'], dtype=object)"
      ]
     },
     "execution_count": 30,
     "metadata": {},
     "output_type": "execute_result"
    }
   ],
   "source": [
    "train['state'].unique()"
   ]
  },
  {
   "cell_type": "code",
   "execution_count": 31,
   "metadata": {
    "colab": {
     "base_uri": "https://localhost:8080/"
    },
    "id": "qHKWCPYD7PVA",
    "outputId": "f34280f6-6846-4b9e-bf34-21fd78932e51"
   },
   "outputs": [
    {
     "data": {
      "text/plain": [
       "array(['dns', 'http', '-', 'ftp-data', 'smtp', 'ssh', 'ftp', 'dhcp',\n",
       "       'irc', 'pop3', 'ssl', 'snmp', 'radius'], dtype=object)"
      ]
     },
     "execution_count": 31,
     "metadata": {},
     "output_type": "execute_result"
    }
   ],
   "source": [
    "train['service'].unique()\n",
    "\n",
    "# Here we need to replace '-' with none"
   ]
  },
  {
   "cell_type": "code",
   "execution_count": 32,
   "metadata": {
    "colab": {
     "base_uri": "https://localhost:8080/"
    },
    "id": "jcYuKAk78NTX",
    "outputId": "3a8400c5-05cf-4c60-a3a5-e92a0362eac2"
   },
   "outputs": [
    {
     "data": {
      "text/plain": [
       "array(['dns', 'http', 'none', 'ftp-data', 'smtp', 'ssh', 'ftp', 'dhcp',\n",
       "       'irc', 'pop3', 'ssl', 'snmp', 'radius'], dtype=object)"
      ]
     },
     "execution_count": 32,
     "metadata": {},
     "output_type": "execute_result"
    }
   ],
   "source": [
    "train['service'] = train['service'].apply(lambda x:'none' if x=='-' else x)\n",
    "\n",
    "# cleaned data\n",
    "train['service'].unique()"
   ]
  },
  {
   "cell_type": "code",
   "execution_count": 33,
   "metadata": {
    "colab": {
     "base_uri": "https://localhost:8080/"
    },
    "id": "rqGIPPEM7PSq",
    "outputId": "a22d4ec7-89bf-4ee9-d9c5-a93d25d5c027"
   },
   "outputs": [
    {
     "data": {
      "text/plain": [
       "array([' ', 0, '0', '1', 1, 3, 2, 6, '4', 4, 5, '2', 8], dtype=object)"
      ]
     },
     "execution_count": 33,
     "metadata": {},
     "output_type": "execute_result"
    }
   ],
   "source": [
    "train['ct_ftp_cmd'].unique()\n",
    "\n",
    "# Here we need to replace blank values with zero and convert string keys to numerical keys"
   ]
  },
  {
   "cell_type": "code",
   "execution_count": 34,
   "metadata": {
    "colab": {
     "base_uri": "https://localhost:8080/"
    },
    "id": "4ttCSmqk7wlz",
    "outputId": "39028fd7-6693-496b-abd4-4f17e905a401"
   },
   "outputs": [
    {
     "data": {
      "text/plain": [
       "array([0, 1, 3, 2, 6, 4, 5, 8])"
      ]
     },
     "execution_count": 34,
     "metadata": {},
     "output_type": "execute_result"
    }
   ],
   "source": [
    "train['ct_ftp_cmd'] = train['ct_ftp_cmd'].replace(\" \",0).astype(int)\n",
    "\n",
    "# cleaned data\n",
    "train['ct_ftp_cmd'].unique()\n"
   ]
  },
  {
   "cell_type": "code",
   "execution_count": 35,
   "metadata": {
    "colab": {
     "base_uri": "https://localhost:8080/"
    },
    "id": "DKJJCURX7PPV",
    "outputId": "8e1f8c18-3caa-48d2-afeb-adee2f8bc541"
   },
   "outputs": [
    {
     "data": {
      "text/plain": [
       "array(['n/a', 'exploits', 'dos', 'generic', 'reconnaissance', 'fuzzers',\n",
       "       'analysis', 'backdoor', 'shellcode', 'backdoors', 'worms'],\n",
       "      dtype=object)"
      ]
     },
     "execution_count": 35,
     "metadata": {},
     "output_type": "execute_result"
    }
   ],
   "source": [
    "train['attack_cat'].unique()"
   ]
  },
  {
   "cell_type": "code",
   "execution_count": 36,
   "metadata": {
    "colab": {
     "base_uri": "https://localhost:8080/"
    },
    "id": "8p3vluY-7PHG",
    "outputId": "9c6bfb88-4023-41e2-ec0d-45ef3b177c84"
   },
   "outputs": [
    {
     "data": {
      "text/plain": [
       "0    1648321\n",
       "1       2709\n",
       "Name: is_sm_ips_ports, dtype: int64"
      ]
     },
     "execution_count": 36,
     "metadata": {},
     "output_type": "execute_result"
    }
   ],
   "source": [
    "# clean binary columns\n",
    "\n",
    "train['is_sm_ips_ports'].value_counts()"
   ]
  },
  {
   "cell_type": "code",
   "execution_count": 37,
   "metadata": {
    "colab": {
     "base_uri": "https://localhost:8080/"
    },
    "id": "nY920h_zGBR8",
    "outputId": "39242b2f-e112-42e9-e125-45f276f31661"
   },
   "outputs": [
    {
     "data": {
      "text/plain": [
       "0.0    1622782\n",
       "1.0      28123\n",
       "4.0        107\n",
       "2.0         18\n",
       "Name: is_ftp_login, dtype: int64"
      ]
     },
     "execution_count": 37,
     "metadata": {},
     "output_type": "execute_result"
    }
   ],
   "source": [
    "train['is_ftp_login'].value_counts()\n",
    "\n",
    "# make values greater than 1 as 1"
   ]
  },
  {
   "cell_type": "code",
   "execution_count": 38,
   "metadata": {
    "colab": {
     "base_uri": "https://localhost:8080/"
    },
    "id": "EksUkgxgGbyd",
    "outputId": "380debf4-3bcf-4069-e6d9-b4053e9a1994"
   },
   "outputs": [
    {
     "data": {
      "text/plain": [
       "0.0    1622782\n",
       "1.0      28248\n",
       "Name: is_ftp_login, dtype: int64"
      ]
     },
     "execution_count": 38,
     "metadata": {},
     "output_type": "execute_result"
    }
   ],
   "source": [
    "train['is_ftp_login'] = train['is_ftp_login'].apply(lambda x:1 if x>1 else x)\n",
    "\n",
    "train['is_ftp_login'].value_counts()"
   ]
  },
  {
   "cell_type": "markdown",
   "metadata": {
    "id": "9XyJQ7znK1Gu"
   },
   "source": [
    "## Finding correlated features"
   ]
  },
  {
   "cell_type": "code",
   "execution_count": 39,
   "metadata": {
    "colab": {
     "base_uri": "https://localhost:8080/",
     "height": 1000
    },
    "id": "UUFYQFTYGd9R",
    "outputId": "c0920216-7f90-4223-a655-4e9686e3badd"
   },
   "outputs": [
    {
     "data": {
      "image/png": "[encoded data removed]",
      "text/plain": [
       "<Figure size 1500x1500 with 2 Axes>"
      ]
     },
     "metadata": {},
     "output_type": "display_data"
    }
   ],
   "source": [
    "correlation_matrix = train.corr()\n",
    "\n",
    "plt.figure(figsize=(15,15)) \n",
    "sns.heatmap(correlation_matrix, square=True)\n",
    "plt.show()"
   ]
  },
  {
   "cell_type": "code",
   "execution_count": 40,
   "metadata": {
    "colab": {
     "base_uri": "https://localhost:8080/"
    },
    "id": "FmSu11t2Pa90",
    "outputId": "e65d6755-25ff-4a6f-87e7-82263d296f38"
   },
   "outputs": [
    {
     "name": "stdout",
     "output_type": "stream",
     "text": [
      "sbytes, sloss - 0.9515011839850035\n",
      "dbytes, dloss - 0.9912598569613217\n",
      "dbytes, dpkts - 0.9705672906085007\n",
      "sttl, ct_state_ttl - 0.9063315658872481\n",
      "sttl, label - 0.9046505263282894\n",
      "dloss, dpkts - 0.9921772489440207\n",
      "spkts, dpkts - 0.8302375789700961\n",
      "swin, dwin - 0.9972327727734585\n",
      "stime, ltime - 0.9999999997741433\n",
      "sintpkt, is_sm_ips_ports - 0.8016100445355301\n",
      "tcprtt, synack - 0.9293375158809489\n",
      "tcprtt, ackdat - 0.9191587355165262\n",
      "ct_state_ttl, label - 0.8741014001431718\n",
      "is_ftp_login, ct_ftp_cmd - 0.8408737319817609\n",
      "ct_srv_src, ct_srv_dst - 0.9567468289854977\n",
      "ct_srv_src, ct_dst_ltm - 0.8366001799886017\n",
      "ct_srv_src, ct_src_ltm - 0.8405885995614935\n",
      "ct_srv_src, ct_src_dport_ltm - 0.8697720596898506\n",
      "ct_srv_src, ct_dst_sport_ltm - 0.8406181738772422\n",
      "ct_srv_src, ct_dst_src_ltm - 0.9421667875831303\n",
      "ct_srv_dst, ct_dst_ltm - 0.8598943087168189\n",
      "ct_srv_dst, ct_src_ltm - 0.8246466745742577\n",
      "ct_srv_dst, ct_src_dport_ltm - 0.8760386685786502\n",
      "ct_srv_dst, ct_dst_sport_ltm - 0.84896220019858\n",
      "ct_srv_dst, ct_dst_src_ltm - 0.9511584355816176\n",
      "ct_dst_ltm, ct_src_ltm - 0.9384118215370142\n",
      "ct_dst_ltm, ct_src_dport_ltm - 0.9601657247120274\n",
      "ct_dst_ltm, ct_dst_sport_ltm - 0.8800869441755398\n",
      "ct_dst_ltm, ct_dst_src_ltm - 0.8764966905855579\n",
      "ct_src_ltm, ct_src_dport_ltm - 0.945327122244264\n",
      "ct_src_ltm, ct_dst_sport_ltm - 0.8601227890816676\n",
      "ct_src_ltm, ct_dst_src_ltm - 0.8567038830669164\n",
      "ct_src_dport_ltm, ct_dst_sport_ltm - 0.9213826562245485\n",
      "ct_src_dport_ltm, ct_dst_src_ltm - 0.9108814203686328\n",
      "ct_dst_sport_ltm, ct_dst_src_ltm - 0.8903660383598351\n",
      "\n",
      "No. of correlated features for limit 0.8: 35\n",
      "\n",
      "==========================================================\n",
      "sbytes, sloss - 0.9515011839850035\n",
      "dbytes, dloss - 0.9912598569613217\n",
      "dbytes, dpkts - 0.9705672906085007\n",
      "sttl, ct_state_ttl - 0.9063315658872481\n",
      "sttl, label - 0.9046505263282894\n",
      "dloss, dpkts - 0.9921772489440207\n",
      "swin, dwin - 0.9972327727734585\n",
      "stime, ltime - 0.9999999997741433\n",
      "tcprtt, synack - 0.9293375158809489\n",
      "tcprtt, ackdat - 0.9191587355165262\n",
      "ct_state_ttl, label - 0.8741014001431718\n",
      "ct_srv_src, ct_srv_dst - 0.9567468289854977\n",
      "ct_srv_src, ct_src_dport_ltm - 0.8697720596898506\n",
      "ct_srv_src, ct_dst_src_ltm - 0.9421667875831303\n",
      "ct_srv_dst, ct_dst_ltm - 0.8598943087168189\n",
      "ct_srv_dst, ct_src_dport_ltm - 0.8760386685786502\n",
      "ct_srv_dst, ct_dst_src_ltm - 0.9511584355816176\n",
      "ct_dst_ltm, ct_src_ltm - 0.9384118215370142\n",
      "ct_dst_ltm, ct_src_dport_ltm - 0.9601657247120274\n",
      "ct_dst_ltm, ct_dst_sport_ltm - 0.8800869441755398\n",
      "ct_dst_ltm, ct_dst_src_ltm - 0.8764966905855579\n",
      "ct_src_ltm, ct_src_dport_ltm - 0.945327122244264\n",
      "ct_src_ltm, ct_dst_sport_ltm - 0.8601227890816676\n",
      "ct_src_ltm, ct_dst_src_ltm - 0.8567038830669164\n",
      "ct_src_dport_ltm, ct_dst_sport_ltm - 0.9213826562245485\n",
      "ct_src_dport_ltm, ct_dst_src_ltm - 0.9108814203686328\n",
      "ct_dst_sport_ltm, ct_dst_src_ltm - 0.8903660383598351\n",
      "\n",
      "No. of correlated features for limit 0.85: 27\n",
      "\n",
      "==========================================================\n",
      "sbytes, sloss - 0.9515011839850035\n",
      "dbytes, dloss - 0.9912598569613217\n",
      "dbytes, dpkts - 0.9705672906085007\n",
      "sttl, ct_state_ttl - 0.9063315658872481\n",
      "sttl, label - 0.9046505263282894\n",
      "dloss, dpkts - 0.9921772489440207\n",
      "swin, dwin - 0.9972327727734585\n",
      "stime, ltime - 0.9999999997741433\n",
      "tcprtt, synack - 0.9293375158809489\n",
      "tcprtt, ackdat - 0.9191587355165262\n",
      "ct_srv_src, ct_srv_dst - 0.9567468289854977\n",
      "ct_srv_src, ct_dst_src_ltm - 0.9421667875831303\n",
      "ct_srv_dst, ct_dst_src_ltm - 0.9511584355816176\n",
      "ct_dst_ltm, ct_src_ltm - 0.9384118215370142\n",
      "ct_dst_ltm, ct_src_dport_ltm - 0.9601657247120274\n",
      "ct_src_ltm, ct_src_dport_ltm - 0.945327122244264\n",
      "ct_src_dport_ltm, ct_dst_sport_ltm - 0.9213826562245485\n",
      "ct_src_dport_ltm, ct_dst_src_ltm - 0.9108814203686328\n",
      "\n",
      "No. of correlated features for limit 0.9: 18\n",
      "\n",
      "==========================================================\n"
     ]
    }
   ],
   "source": [
    "# find features with correlation more than 0.9\n",
    "no_of_rows = correlation_matrix.shape[0]\n",
    "column_names = correlation_matrix.columns\n",
    "no_of_correlated_features = 0\n",
    "limits = [0.8,0.85,0.9]\n",
    "\n",
    "for k in limits:\n",
    "  no_of_correlated_features = 0\n",
    "  for i in range(0,no_of_rows):\n",
    "    for j in range(i+1,no_of_rows):\n",
    "      if correlation_matrix.iloc[i,j]>=k:\n",
    "        no_of_correlated_features += 1\n",
    "        print(column_names[i]+\", \"+column_names[j]+\" - \"+str(correlation_matrix.iloc[i,j]))\n",
    "\n",
    "  print(\"\\nNo. of correlated features for limit \"+str(k)+\": \"+str(no_of_correlated_features)+\"\\n\")\n",
    "  print(\"==========================================================\")"
   ]
  },
  {
   "cell_type": "markdown",
   "metadata": {
    "id": "kFllc_XehIsL"
   },
   "source": [
    "# Feature Engineering"
   ]
  },
  {
   "cell_type": "code",
   "execution_count": 42,
   "metadata": {
    "id": "doyGt5mUhULg"
   },
   "outputs": [],
   "source": [
    "# Correlation functions\n",
    "\n",
    "# Func returns correlation between 2 given features\n",
    "def corr(feature1, feature2=\"label\", df=train):\n",
    "    return df[[feature1, feature2]].corr().iloc[0,1]\n",
    "\n",
    "# Func returns correlation between 2 given features\n",
    "# Also gives corr with \"label\" after applying log1p.\n",
    "def calc_multi_corr(feature1, feature2=\"label\", df=train):\n",
    "    corr = df[[feature1, feature2]].corr().iloc[0,1]\n",
    "    log_corr = df[feature1].apply(np.log1p).corr(df[feature2])\n",
    "\n",
    "    print(\"Correlation : {}\\nlog_Correlation: {}\".format(corr, log_corr))"
   ]
  },
  {
   "cell_type": "code",
   "execution_count": 43,
   "metadata": {
    "id": "Yaqtv2KL941w"
   },
   "outputs": [],
   "source": [
    "binary_cols = ['is_sm_ips_ports', 'is_ftp_login']"
   ]
  },
  {
   "cell_type": "markdown",
   "metadata": {
    "id": "Jh2vOGAohrvs"
   },
   "source": [
    "## Find and remove highly correlated features"
   ]
  },
  {
   "cell_type": "code",
   "execution_count": 44,
   "metadata": {
    "colab": {
     "base_uri": "https://localhost:8080/"
    },
    "id": "VSQ52mOUhhzF",
    "outputId": "8e1eb6ae-febd-4e0b-a198-15348307bc20"
   },
   "outputs": [
    {
     "name": "stdout",
     "output_type": "stream",
     "text": [
      "['sloss', 'dloss', 'dpkts', 'dwin', 'ltime', 'synack', 'ackdat', 'ct_state_ttl', 'ct_srv_dst', 'ct_dst_ltm', 'ct_src_ltm', 'ct_src_dport_ltm', 'ct_dst_sport_ltm', 'ct_dst_src_ltm']\n"
     ]
    }
   ],
   "source": [
    "# Selecting features with high correlation values with other features\n",
    "corr_matrix = train.corr().abs()\n",
    "\n",
    "# Select upper triangle of correlation matrix\n",
    "upper = corr_matrix.where(np.triu(np.ones(corr_matrix.shape), k=1).astype(np.bool))\n",
    "\n",
    "# feature columns with correlation > 0.85\n",
    "to_drop = [column for column in upper.columns if any(upper[column] > 0.85)]\n",
    "to_drop.remove('label')\n",
    "print(to_drop)"
   ]
  },
  {
   "cell_type": "code",
   "execution_count": 45,
   "metadata": {
    "colab": {
     "base_uri": "https://localhost:8080/"
    },
    "id": "pwU8EtEEHCVD",
    "outputId": "b5123094-53fd-4afe-b99f-16860bcfa84b"
   },
   "outputs": [
    {
     "data": {
      "text/plain": [
       "(1651030, 49)"
      ]
     },
     "execution_count": 45,
     "metadata": {},
     "output_type": "execute_result"
    }
   ],
   "source": [
    "train.shape"
   ]
  },
  {
   "cell_type": "code",
   "execution_count": 46,
   "metadata": {
    "id": "J4f-JI9Jh2Z-"
   },
   "outputs": [],
   "source": [
    "corr_col = to_drop \n",
    "\n",
    "# drop columns from train data\n",
    "train.drop(columns=to_drop, inplace=True)"
   ]
  },
  {
   "cell_type": "code",
   "execution_count": 47,
   "metadata": {
    "colab": {
     "base_uri": "https://localhost:8080/"
    },
    "id": "rZPWYcUQh5cB",
    "outputId": "d85d2a0a-0775-4b23-9bf9-2e2babe5959b"
   },
   "outputs": [
    {
     "data": {
      "text/plain": [
       "((1651030, 35), (889017, 49))"
      ]
     },
     "execution_count": 47,
     "metadata": {},
     "output_type": "execute_result"
    }
   ],
   "source": [
    "train.shape, test.shape"
   ]
  },
  {
   "cell_type": "markdown",
   "metadata": {
    "id": "6oqmHrbOrB16"
   },
   "source": [
    "## Adding/Removing Features\n",
    "\n",
    "* Network bytes: total number of bytes transmitted by a network, which is calculated as the sum of source-to-destination bytes (sbytes) and destination-to-source bytes (dbytes)."
   ]
  },
  {
   "cell_type": "code",
   "execution_count": 48,
   "metadata": {
    "id": "ZFJ02djAh7lq"
   },
   "outputs": [],
   "source": [
    "# creating new features\n",
    "train['network_bytes'] = train['sbytes'] + train['dbytes']"
   ]
  },
  {
   "cell_type": "code",
   "execution_count": 49,
   "metadata": {
    "id": "nZm16Og0iFkf"
   },
   "outputs": [],
   "source": [
    "# Removing columns that don't contribute to the classification. \n",
    "# The column \"attack_cat\" is intended for multiclass classification\n",
    "# remaining columns are related to addresses and are not included in the sample training data.\n",
    "train.drop(['srcip', 'sport', 'dstip', 'dsport', 'attack_cat'], axis=1, inplace=True)"
   ]
  },
  {
   "cell_type": "code",
   "execution_count": 50,
   "metadata": {
    "id": "XnTElsJoiF_k"
   },
   "outputs": [],
   "source": [
    "# To use during test data transformation\n",
    "saved_to_drop = ['srcip', 'sport', 'dstip', 'dsport', 'attack_cat']"
   ]
  },
  {
   "cell_type": "code",
   "execution_count": 51,
   "metadata": {
    "colab": {
     "base_uri": "https://localhost:8080/"
    },
    "id": "QxKTTGXWiJB8",
    "outputId": "6f2631b2-7ed8-4426-8cd8-a1532b4e42e1"
   },
   "outputs": [
    {
     "data": {
      "text/plain": [
       "((1651030, 31), (889017, 49))"
      ]
     },
     "execution_count": 51,
     "metadata": {},
     "output_type": "execute_result"
    }
   ],
   "source": [
    "train.shape, test.shape"
   ]
  },
  {
   "cell_type": "markdown",
   "metadata": {
    "id": "vsFOeXPTiLRL"
   },
   "source": [
    "## Applying log1p on Numerical columns"
   ]
  },
  {
   "cell_type": "code",
   "execution_count": 52,
   "metadata": {
    "id": "AvS_JGGEiOEr"
   },
   "outputs": [],
   "source": [
    "col_unique_values = train.nunique()\n",
    "col = col_unique_values[col_unique_values>200].index"
   ]
  },
  {
   "cell_type": "code",
   "execution_count": 53,
   "metadata": {
    "colab": {
     "base_uri": "https://localhost:8080/"
    },
    "id": "M-dC2nhfiVvO",
    "outputId": "a4231ce0-96e6-42f8-b249-2067f23fea52"
   },
   "outputs": [
    {
     "name": "stdout",
     "output_type": "stream",
     "text": [
      "-------------dur--------------\n",
      "Correlation : 0.001400089030408201\n",
      "log_Correlation: -0.03317499966389567\n",
      "------------sbytes------------\n",
      "Correlation : 0.00918539704858462\n",
      "log_Correlation: -0.3564366313322448\n",
      "------------dbytes------------\n",
      "Correlation : -0.07675593754735742\n",
      "log_Correlation: -0.5194306152760445\n",
      "------------sload-------------\n",
      "Correlation : 0.19252471432025492\n",
      "log_Correlation: 0.3469409866056079\n",
      "------------dload-------------\n",
      "Correlation : -0.21980438367654795\n",
      "log_Correlation: -0.6031542587079646\n",
      "------------spkts-------------\n",
      "Correlation : -0.12299270995803764\n",
      "log_Correlation: -0.3166395684484875\n",
      "------------stcpb-------------\n",
      "Correlation : -0.2335691255890391\n",
      "log_Correlation: -0.3133156622132289\n",
      "------------dtcpb-------------\n",
      "Correlation : -0.2335355688471651\n",
      "log_Correlation: -0.3131800173603627\n",
      "-----------smeansz------------\n",
      "Correlation : -0.0649708553344974\n",
      "log_Correlation: -0.15102367896351632\n",
      "-----------dmeansz------------\n",
      "Correlation : -0.2726267259777533\n",
      "log_Correlation: -0.5645570268671574\n",
      "---------res_bdy_len----------\n",
      "Correlation : -0.02967745199788633\n",
      "log_Correlation: -0.06836108865015769\n",
      "-------------sjit-------------\n",
      "Correlation : 0.020367438885804574\n",
      "log_Correlation: -0.18898706909991503\n",
      "-------------djit-------------\n",
      "Correlation : -0.054127616075994534\n",
      "log_Correlation: -0.20509138810246094\n",
      "------------stime-------------\n",
      "Correlation : 0.2755966723963648\n",
      "log_Correlation: 0.2755962522165858\n",
      "-----------sintpkt------------\n",
      "Correlation : -0.01898821177321053\n",
      "log_Correlation: -0.07993636370697539\n",
      "-----------dintpkt------------\n",
      "Correlation : -0.010885370778988235\n",
      "log_Correlation: -0.07906741074652382\n",
      "------------tcprtt------------\n",
      "Correlation : 0.14692813446129913\n",
      "log_Correlation: 0.18737378820087192\n",
      "--------network_bytes---------\n",
      "Correlation : -0.0686351800001338\n",
      "log_Correlation: -0.4107284605568628\n"
     ]
    }
   ],
   "source": [
    "# calculating corr value of original col and after applying log1p on col\n",
    "for column in col:\n",
    "    print(\"{:-^30}\".format(column))\n",
    "    calc_multi_corr(column)"
   ]
  },
  {
   "cell_type": "code",
   "execution_count": 54,
   "metadata": {
    "id": "k0HJSWpqiVsY"
   },
   "outputs": [],
   "source": [
    "# Only applying log1p to these cols, dropping the original\n",
    "log1p_col = ['dur', 'sbytes', 'dbytes', 'sload', 'dload', 'spkts', 'stcpb', 'dtcpb', 'smeansz', 'dmeansz', 'sjit', 'djit', 'network_bytes']"
   ]
  },
  {
   "cell_type": "code",
   "execution_count": 55,
   "metadata": {
    "id": "xCVN8IpbiVkU"
   },
   "outputs": [],
   "source": [
    "def log1p_transform(col, df=train):\n",
    "    new_col = col+'_log1p'\n",
    "    df[new_col] = df[col].apply(np.log1p)\n",
    "    df.drop(col, axis=1, inplace=True)"
   ]
  },
  {
   "cell_type": "code",
   "execution_count": 56,
   "metadata": {
    "id": "drO9nvcziVht"
   },
   "outputs": [],
   "source": [
    "# Transforming columns with log1p\n",
    "for col in log1p_col:\n",
    "    log1p_transform(col, df=train)"
   ]
  },
  {
   "cell_type": "code",
   "execution_count": 57,
   "metadata": {
    "colab": {
     "base_uri": "https://localhost:8080/"
    },
    "id": "_k4NmHAGiVfG",
    "outputId": "04040c4d-6fc1-469d-f1b4-56db5ce61b6e"
   },
   "outputs": [
    {
     "data": {
      "text/plain": [
       "(1651030, 31)"
      ]
     },
     "execution_count": 57,
     "metadata": {},
     "output_type": "execute_result"
    }
   ],
   "source": [
    "train.shape"
   ]
  },
  {
   "cell_type": "code",
   "execution_count": 58,
   "metadata": {
    "colab": {
     "base_uri": "https://localhost:8080/"
    },
    "id": "r78xIV5iiVcf",
    "outputId": "3b869c8a-721f-4398-fd02-afbb9f465a69"
   },
   "outputs": [
    {
     "data": {
      "text/plain": [
       "Index(['proto', 'state', 'sttl', 'dttl', 'service', 'swin', 'trans_depth',\n",
       "       'res_bdy_len', 'stime', 'sintpkt', 'dintpkt', 'tcprtt',\n",
       "       'is_sm_ips_ports', 'ct_flw_http_mthd', 'is_ftp_login', 'ct_ftp_cmd',\n",
       "       'ct_srv_src', 'label', 'dur_log1p', 'sbytes_log1p', 'dbytes_log1p',\n",
       "       'sload_log1p', 'dload_log1p', 'spkts_log1p', 'stcpb_log1p',\n",
       "       'dtcpb_log1p', 'smeansz_log1p', 'dmeansz_log1p', 'sjit_log1p',\n",
       "       'djit_log1p', 'network_bytes_log1p'],\n",
       "      dtype='object', name='Name')"
      ]
     },
     "execution_count": 58,
     "metadata": {},
     "output_type": "execute_result"
    }
   ],
   "source": [
    "train.columns"
   ]
  },
  {
   "cell_type": "code",
   "execution_count": 59,
   "metadata": {
    "id": "0QiROAIbiVm7"
   },
   "outputs": [],
   "source": [
    "# calculating mode values for every column\n",
    "mode_values = train.mode().iloc[0].to_dict()"
   ]
  },
  {
   "cell_type": "code",
   "execution_count": 60,
   "metadata": {
    "id": "gFbQfzK9iVXD"
   },
   "outputs": [],
   "source": [
    "# dividing the data into x and y set\n",
    "x_train, y_train = train.drop(columns=['label']), train['label']\n",
    "x_test, y_test = test.drop(columns=['label']), test['label']"
   ]
  },
  {
   "cell_type": "code",
   "execution_count": 61,
   "metadata": {
    "colab": {
     "base_uri": "https://localhost:8080/"
    },
    "id": "pCvnDqIkiVUN",
    "outputId": "e1ace921-6b17-4de7-9348-1ced8e7e5d45"
   },
   "outputs": [
    {
     "name": "stdout",
     "output_type": "stream",
     "text": [
      "(1651030, 30) (1651030,)\n",
      "\n",
      "(889017, 48) (889017,)\n"
     ]
    }
   ],
   "source": [
    "print(x_train.shape, y_train.shape)\n",
    "print()\n",
    "print(x_test.shape, y_test.shape)"
   ]
  },
  {
   "cell_type": "code",
   "execution_count": 62,
   "metadata": {
    "id": "4xCGTz9MiVO_"
   },
   "outputs": [],
   "source": [
    "# creating lists of categorical and numerical columns\n",
    "cat_col = ['proto', 'service', 'state']\n",
    "num_col = list(set(x_train.columns) - set(cat_col))"
   ]
  },
  {
   "cell_type": "code",
   "execution_count": 63,
   "metadata": {
    "colab": {
     "base_uri": "https://localhost:8080/"
    },
    "id": "GLwxItSZw2n4",
    "outputId": "bf335e9c-5f59-48ee-a3a0-d80d9deb1f5a"
   },
   "outputs": [
    {
     "data": {
      "text/plain": [
       "['trans_depth',\n",
       " 'ct_srv_src',\n",
       " 'dttl',\n",
       " 'ct_flw_http_mthd',\n",
       " 'res_bdy_len',\n",
       " 'is_sm_ips_ports',\n",
       " 'dintpkt',\n",
       " 'swin',\n",
       " 'sjit_log1p',\n",
       " 'djit_log1p',\n",
       " 'network_bytes_log1p',\n",
       " 'is_ftp_login',\n",
       " 'spkts_log1p',\n",
       " 'sbytes_log1p',\n",
       " 'dbytes_log1p',\n",
       " 'smeansz_log1p',\n",
       " 'sintpkt',\n",
       " 'dtcpb_log1p',\n",
       " 'dload_log1p',\n",
       " 'stcpb_log1p',\n",
       " 'tcprtt',\n",
       " 'stime',\n",
       " 'ct_ftp_cmd',\n",
       " 'dur_log1p',\n",
       " 'sload_log1p',\n",
       " 'dmeansz_log1p',\n",
       " 'sttl']"
      ]
     },
     "execution_count": 63,
     "metadata": {},
     "output_type": "execute_result"
    }
   ],
   "source": [
    "num_col"
   ]
  },
  {
   "cell_type": "code",
   "execution_count": 64,
   "metadata": {
    "id": "r5Ml9kb8GHUM"
   },
   "outputs": [],
   "source": [
    "saved_num_col = num_col"
   ]
  },
  {
   "cell_type": "code",
   "execution_count": 65,
   "metadata": {
    "colab": {
     "base_uri": "https://localhost:8080/"
    },
    "id": "4B8BqpeJrCgF",
    "outputId": "543bb2fa-485a-486a-8d2a-8f71d49b776b"
   },
   "outputs": [
    {
     "data": {
      "text/plain": [
       "['trans_depth',\n",
       " 'ct_srv_src',\n",
       " 'dttl',\n",
       " 'ct_flw_http_mthd',\n",
       " 'res_bdy_len',\n",
       " 'is_sm_ips_ports',\n",
       " 'dintpkt',\n",
       " 'swin',\n",
       " 'sjit_log1p',\n",
       " 'djit_log1p',\n",
       " 'network_bytes_log1p',\n",
       " 'is_ftp_login',\n",
       " 'spkts_log1p',\n",
       " 'sbytes_log1p',\n",
       " 'dbytes_log1p',\n",
       " 'smeansz_log1p',\n",
       " 'sintpkt',\n",
       " 'dtcpb_log1p',\n",
       " 'dload_log1p',\n",
       " 'stcpb_log1p',\n",
       " 'tcprtt',\n",
       " 'stime',\n",
       " 'ct_ftp_cmd',\n",
       " 'dur_log1p',\n",
       " 'sload_log1p',\n",
       " 'dmeansz_log1p',\n",
       " 'sttl']"
      ]
     },
     "execution_count": 65,
     "metadata": {},
     "output_type": "execute_result"
    }
   ],
   "source": [
    "saved_num_col"
   ]
  },
  {
   "cell_type": "code",
   "execution_count": 66,
   "metadata": {
    "colab": {
     "base_uri": "https://localhost:8080/",
     "height": 300
    },
    "id": "S-2nNoi1iVJz",
    "outputId": "bacc9c32-f5cf-4906-d4c5-6bfa5a1a0330"
   },
   "outputs": [
    {
     "data": {
      "text/html": [
       "<div>\n",
       "<style scoped>\n",
       "    .dataframe tbody tr th:only-of-type {\n",
       "        vertical-align: middle;\n",
       "    }\n",
       "\n",
       "    .dataframe tbody tr th {\n",
       "        vertical-align: top;\n",
       "    }\n",
       "\n",
       "    .dataframe thead th {\n",
       "        text-align: right;\n",
       "    }\n",
       "</style>\n",
       "<table border=\"1\" class=\"dataframe\">\n",
       "  <thead>\n",
       "    <tr style=\"text-align: right;\">\n",
       "      <th>Name</th>\n",
       "      <th>proto</th>\n",
       "      <th>state</th>\n",
       "      <th>sttl</th>\n",
       "      <th>dttl</th>\n",
       "      <th>service</th>\n",
       "      <th>swin</th>\n",
       "      <th>trans_depth</th>\n",
       "      <th>res_bdy_len</th>\n",
       "      <th>stime</th>\n",
       "      <th>sintpkt</th>\n",
       "      <th>...</th>\n",
       "      <th>sload_log1p</th>\n",
       "      <th>dload_log1p</th>\n",
       "      <th>spkts_log1p</th>\n",
       "      <th>stcpb_log1p</th>\n",
       "      <th>dtcpb_log1p</th>\n",
       "      <th>smeansz_log1p</th>\n",
       "      <th>dmeansz_log1p</th>\n",
       "      <th>sjit_log1p</th>\n",
       "      <th>djit_log1p</th>\n",
       "      <th>network_bytes_log1p</th>\n",
       "    </tr>\n",
       "  </thead>\n",
       "  <tbody>\n",
       "    <tr>\n",
       "      <th>2402763</th>\n",
       "      <td>udp</td>\n",
       "      <td>CON</td>\n",
       "      <td>31</td>\n",
       "      <td>29</td>\n",
       "      <td>dns</td>\n",
       "      <td>0</td>\n",
       "      <td>0</td>\n",
       "      <td>0</td>\n",
       "      <td>1424258903</td>\n",
       "      <td>0.008000</td>\n",
       "      <td>...</td>\n",
       "      <td>13.138847</td>\n",
       "      <td>13.358908</td>\n",
       "      <td>1.098612</td>\n",
       "      <td>0.000000</td>\n",
       "      <td>0.000000</td>\n",
       "      <td>4.189655</td>\n",
       "      <td>4.406719</td>\n",
       "      <td>0.000000</td>\n",
       "      <td>0.000000</td>\n",
       "      <td>5.680173</td>\n",
       "    </tr>\n",
       "    <tr>\n",
       "      <th>1262231</th>\n",
       "      <td>tcp</td>\n",
       "      <td>FIN</td>\n",
       "      <td>62</td>\n",
       "      <td>252</td>\n",
       "      <td>http</td>\n",
       "      <td>255</td>\n",
       "      <td>1</td>\n",
       "      <td>180</td>\n",
       "      <td>1424226630</td>\n",
       "      <td>29.977089</td>\n",
       "      <td>...</td>\n",
       "      <td>10.253662</td>\n",
       "      <td>12.007948</td>\n",
       "      <td>2.564949</td>\n",
       "      <td>20.295228</td>\n",
       "      <td>21.812898</td>\n",
       "      <td>4.672829</td>\n",
       "      <td>6.255750</td>\n",
       "      <td>7.288759</td>\n",
       "      <td>7.451177</td>\n",
       "      <td>9.054739</td>\n",
       "    </tr>\n",
       "    <tr>\n",
       "      <th>1063079</th>\n",
       "      <td>tcp</td>\n",
       "      <td>FIN</td>\n",
       "      <td>31</td>\n",
       "      <td>29</td>\n",
       "      <td>none</td>\n",
       "      <td>255</td>\n",
       "      <td>0</td>\n",
       "      <td>0</td>\n",
       "      <td>1421971627</td>\n",
       "      <td>24.096564</td>\n",
       "      <td>...</td>\n",
       "      <td>9.825161</td>\n",
       "      <td>13.624639</td>\n",
       "      <td>6.493754</td>\n",
       "      <td>21.994653</td>\n",
       "      <td>22.001274</td>\n",
       "      <td>4.043051</td>\n",
       "      <td>7.158514</td>\n",
       "      <td>9.258080</td>\n",
       "      <td>8.925890</td>\n",
       "      <td>14.333186</td>\n",
       "    </tr>\n",
       "    <tr>\n",
       "      <th>291332</th>\n",
       "      <td>udp</td>\n",
       "      <td>CON</td>\n",
       "      <td>31</td>\n",
       "      <td>29</td>\n",
       "      <td>dns</td>\n",
       "      <td>0</td>\n",
       "      <td>0</td>\n",
       "      <td>0</td>\n",
       "      <td>1421939146</td>\n",
       "      <td>0.013000</td>\n",
       "      <td>...</td>\n",
       "      <td>13.062632</td>\n",
       "      <td>13.279697</td>\n",
       "      <td>1.098612</td>\n",
       "      <td>0.000000</td>\n",
       "      <td>0.000000</td>\n",
       "      <td>4.204693</td>\n",
       "      <td>4.418841</td>\n",
       "      <td>0.000000</td>\n",
       "      <td>0.000000</td>\n",
       "      <td>5.693732</td>\n",
       "    </tr>\n",
       "    <tr>\n",
       "      <th>1374804</th>\n",
       "      <td>udp</td>\n",
       "      <td>INT</td>\n",
       "      <td>60</td>\n",
       "      <td>0</td>\n",
       "      <td>dns</td>\n",
       "      <td>0</td>\n",
       "      <td>0</td>\n",
       "      <td>0</td>\n",
       "      <td>1424230527</td>\n",
       "      <td>0.007000</td>\n",
       "      <td>...</td>\n",
       "      <td>18.831844</td>\n",
       "      <td>0.000000</td>\n",
       "      <td>1.098612</td>\n",
       "      <td>0.000000</td>\n",
       "      <td>0.000000</td>\n",
       "      <td>4.890349</td>\n",
       "      <td>0.000000</td>\n",
       "      <td>0.000000</td>\n",
       "      <td>0.000000</td>\n",
       "      <td>5.579730</td>\n",
       "    </tr>\n",
       "  </tbody>\n",
       "</table>\n",
       "<p>5 rows × 30 columns</p>\n",
       "</div>"
      ],
      "text/plain": [
       "Name    proto state  sttl  dttl service  swin  trans_depth  res_bdy_len  \\\n",
       "2402763   udp   CON    31    29     dns     0            0            0   \n",
       "1262231   tcp   FIN    62   252    http   255            1          180   \n",
       "1063079   tcp   FIN    31    29    none   255            0            0   \n",
       "291332    udp   CON    31    29     dns     0            0            0   \n",
       "1374804   udp   INT    60     0     dns     0            0            0   \n",
       "\n",
       "Name          stime    sintpkt  ...  sload_log1p  dload_log1p  spkts_log1p  \\\n",
       "2402763  1424258903   0.008000  ...    13.138847    13.358908     1.098612   \n",
       "1262231  1424226630  29.977089  ...    10.253662    12.007948     2.564949   \n",
       "1063079  1421971627  24.096564  ...     9.825161    13.624639     6.493754   \n",
       "291332   1421939146   0.013000  ...    13.062632    13.279697     1.098612   \n",
       "1374804  1424230527   0.007000  ...    18.831844     0.000000     1.098612   \n",
       "\n",
       "Name     stcpb_log1p  dtcpb_log1p  smeansz_log1p  dmeansz_log1p  sjit_log1p  \\\n",
       "2402763     0.000000     0.000000       4.189655       4.406719    0.000000   \n",
       "1262231    20.295228    21.812898       4.672829       6.255750    7.288759   \n",
       "1063079    21.994653    22.001274       4.043051       7.158514    9.258080   \n",
       "291332      0.000000     0.000000       4.204693       4.418841    0.000000   \n",
       "1374804     0.000000     0.000000       4.890349       0.000000    0.000000   \n",
       "\n",
       "Name     djit_log1p  network_bytes_log1p  \n",
       "2402763    0.000000             5.680173  \n",
       "1262231    7.451177             9.054739  \n",
       "1063079    8.925890            14.333186  \n",
       "291332     0.000000             5.693732  \n",
       "1374804    0.000000             5.579730  \n",
       "\n",
       "[5 rows x 30 columns]"
      ]
     },
     "execution_count": 66,
     "metadata": {},
     "output_type": "execute_result"
    }
   ],
   "source": [
    "x_train.head()"
   ]
  },
  {
   "cell_type": "markdown",
   "metadata": {
    "id": "CW_F-ysnjJdI"
   },
   "source": [
    "## Standardizing the data\n",
    "    "
   ]
  },
  {
   "cell_type": "code",
   "execution_count": 67,
   "metadata": {
    "id": "lobtFRl8iVHM"
   },
   "outputs": [],
   "source": [
    "# Standardizing the data\n",
    "scaler = StandardScaler()\n",
    "scaler = scaler.fit(x_train[num_col])"
   ]
  },
  {
   "cell_type": "code",
   "execution_count": 68,
   "metadata": {
    "id": "afFxCnzbiVER"
   },
   "outputs": [],
   "source": [
    "x_train[num_col] = scaler.transform(x_train[num_col])"
   ]
  },
  {
   "cell_type": "code",
   "execution_count": 69,
   "metadata": {
    "colab": {
     "base_uri": "https://localhost:8080/",
     "height": 300
    },
    "id": "7THlDT6niVBp",
    "outputId": "9b4c133a-ed31-49ac-8d9c-e8b239ca847d"
   },
   "outputs": [
    {
     "data": {
      "text/html": [
       "<div>\n",
       "<style scoped>\n",
       "    .dataframe tbody tr th:only-of-type {\n",
       "        vertical-align: middle;\n",
       "    }\n",
       "\n",
       "    .dataframe tbody tr th {\n",
       "        vertical-align: top;\n",
       "    }\n",
       "\n",
       "    .dataframe thead th {\n",
       "        text-align: right;\n",
       "    }\n",
       "</style>\n",
       "<table border=\"1\" class=\"dataframe\">\n",
       "  <thead>\n",
       "    <tr style=\"text-align: right;\">\n",
       "      <th>Name</th>\n",
       "      <th>proto</th>\n",
       "      <th>state</th>\n",
       "      <th>sttl</th>\n",
       "      <th>dttl</th>\n",
       "      <th>service</th>\n",
       "      <th>swin</th>\n",
       "      <th>trans_depth</th>\n",
       "      <th>res_bdy_len</th>\n",
       "      <th>stime</th>\n",
       "      <th>sintpkt</th>\n",
       "      <th>...</th>\n",
       "      <th>sload_log1p</th>\n",
       "      <th>dload_log1p</th>\n",
       "      <th>spkts_log1p</th>\n",
       "      <th>stcpb_log1p</th>\n",
       "      <th>dtcpb_log1p</th>\n",
       "      <th>smeansz_log1p</th>\n",
       "      <th>dmeansz_log1p</th>\n",
       "      <th>sjit_log1p</th>\n",
       "      <th>djit_log1p</th>\n",
       "      <th>network_bytes_log1p</th>\n",
       "    </tr>\n",
       "  </thead>\n",
       "  <tbody>\n",
       "    <tr>\n",
       "      <th>2402763</th>\n",
       "      <td>udp</td>\n",
       "      <td>CON</td>\n",
       "      <td>-0.426026</td>\n",
       "      <td>-0.041411</td>\n",
       "      <td>dns</td>\n",
       "      <td>-1.196659</td>\n",
       "      <td>-0.235102</td>\n",
       "      <td>-0.091645</td>\n",
       "      <td>0.879916</td>\n",
       "      <td>-0.069620</td>\n",
       "      <td>...</td>\n",
       "      <td>-0.154027</td>\n",
       "      <td>0.468717</td>\n",
       "      <td>-1.081480</td>\n",
       "      <td>-1.190677</td>\n",
       "      <td>-1.190384</td>\n",
       "      <td>-0.558268</td>\n",
       "      <td>0.055936</td>\n",
       "      <td>-0.995948</td>\n",
       "      <td>-0.900561</td>\n",
       "      <td>-1.019830</td>\n",
       "    </tr>\n",
       "    <tr>\n",
       "      <th>1262231</th>\n",
       "      <td>tcp</td>\n",
       "      <td>FIN</td>\n",
       "      <td>-0.010721</td>\n",
       "      <td>5.159522</td>\n",
       "      <td>http</td>\n",
       "      <td>0.835670</td>\n",
       "      <td>2.581900</td>\n",
       "      <td>-0.087771</td>\n",
       "      <td>0.851468</td>\n",
       "      <td>-0.058828</td>\n",
       "      <td>...</td>\n",
       "      <td>-1.072107</td>\n",
       "      <td>0.231171</td>\n",
       "      <td>-0.002652</td>\n",
       "      <td>0.750543</td>\n",
       "      <td>0.895945</td>\n",
       "      <td>0.216871</td>\n",
       "      <td>0.856019</td>\n",
       "      <td>1.258884</td>\n",
       "      <td>1.746486</td>\n",
       "      <td>0.423464</td>\n",
       "    </tr>\n",
       "    <tr>\n",
       "      <th>1063079</th>\n",
       "      <td>tcp</td>\n",
       "      <td>FIN</td>\n",
       "      <td>-0.426026</td>\n",
       "      <td>-0.041411</td>\n",
       "      <td>none</td>\n",
       "      <td>0.835670</td>\n",
       "      <td>-0.235102</td>\n",
       "      <td>-0.091645</td>\n",
       "      <td>-1.136265</td>\n",
       "      <td>-0.060946</td>\n",
       "      <td>...</td>\n",
       "      <td>-1.208458</td>\n",
       "      <td>0.515441</td>\n",
       "      <td>2.887885</td>\n",
       "      <td>0.913092</td>\n",
       "      <td>0.913962</td>\n",
       "      <td>-0.793458</td>\n",
       "      <td>1.246649</td>\n",
       "      <td>1.868109</td>\n",
       "      <td>2.270381</td>\n",
       "      <td>2.681044</td>\n",
       "    </tr>\n",
       "    <tr>\n",
       "      <th>291332</th>\n",
       "      <td>udp</td>\n",
       "      <td>CON</td>\n",
       "      <td>-0.426026</td>\n",
       "      <td>-0.041411</td>\n",
       "      <td>dns</td>\n",
       "      <td>-1.196659</td>\n",
       "      <td>-0.235102</td>\n",
       "      <td>-0.091645</td>\n",
       "      <td>-1.164897</td>\n",
       "      <td>-0.069618</td>\n",
       "      <td>...</td>\n",
       "      <td>-0.178279</td>\n",
       "      <td>0.454789</td>\n",
       "      <td>-1.081480</td>\n",
       "      <td>-1.190677</td>\n",
       "      <td>-1.190384</td>\n",
       "      <td>-0.534143</td>\n",
       "      <td>0.061181</td>\n",
       "      <td>-0.995948</td>\n",
       "      <td>-0.900561</td>\n",
       "      <td>-1.014030</td>\n",
       "    </tr>\n",
       "    <tr>\n",
       "      <th>1374804</th>\n",
       "      <td>udp</td>\n",
       "      <td>INT</td>\n",
       "      <td>-0.037515</td>\n",
       "      <td>-0.717766</td>\n",
       "      <td>dns</td>\n",
       "      <td>-1.196659</td>\n",
       "      <td>-0.235102</td>\n",
       "      <td>-0.091645</td>\n",
       "      <td>0.854903</td>\n",
       "      <td>-0.069620</td>\n",
       "      <td>...</td>\n",
       "      <td>1.657513</td>\n",
       "      <td>-1.880240</td>\n",
       "      <td>-1.081480</td>\n",
       "      <td>-1.190677</td>\n",
       "      <td>-1.190384</td>\n",
       "      <td>0.565830</td>\n",
       "      <td>-1.850870</td>\n",
       "      <td>-0.995948</td>\n",
       "      <td>-0.900561</td>\n",
       "      <td>-1.062789</td>\n",
       "    </tr>\n",
       "  </tbody>\n",
       "</table>\n",
       "<p>5 rows × 30 columns</p>\n",
       "</div>"
      ],
      "text/plain": [
       "Name    proto state      sttl      dttl service      swin  trans_depth  \\\n",
       "2402763   udp   CON -0.426026 -0.041411     dns -1.196659    -0.235102   \n",
       "1262231   tcp   FIN -0.010721  5.159522    http  0.835670     2.581900   \n",
       "1063079   tcp   FIN -0.426026 -0.041411    none  0.835670    -0.235102   \n",
       "291332    udp   CON -0.426026 -0.041411     dns -1.196659    -0.235102   \n",
       "1374804   udp   INT -0.037515 -0.717766     dns -1.196659    -0.235102   \n",
       "\n",
       "Name     res_bdy_len     stime   sintpkt  ...  sload_log1p  dload_log1p  \\\n",
       "2402763    -0.091645  0.879916 -0.069620  ...    -0.154027     0.468717   \n",
       "1262231    -0.087771  0.851468 -0.058828  ...    -1.072107     0.231171   \n",
       "1063079    -0.091645 -1.136265 -0.060946  ...    -1.208458     0.515441   \n",
       "291332     -0.091645 -1.164897 -0.069618  ...    -0.178279     0.454789   \n",
       "1374804    -0.091645  0.854903 -0.069620  ...     1.657513    -1.880240   \n",
       "\n",
       "Name     spkts_log1p  stcpb_log1p  dtcpb_log1p  smeansz_log1p  dmeansz_log1p  \\\n",
       "2402763    -1.081480    -1.190677    -1.190384      -0.558268       0.055936   \n",
       "1262231    -0.002652     0.750543     0.895945       0.216871       0.856019   \n",
       "1063079     2.887885     0.913092     0.913962      -0.793458       1.246649   \n",
       "291332     -1.081480    -1.190677    -1.190384      -0.534143       0.061181   \n",
       "1374804    -1.081480    -1.190677    -1.190384       0.565830      -1.850870   \n",
       "\n",
       "Name     sjit_log1p  djit_log1p  network_bytes_log1p  \n",
       "2402763   -0.995948   -0.900561            -1.019830  \n",
       "1262231    1.258884    1.746486             0.423464  \n",
       "1063079    1.868109    2.270381             2.681044  \n",
       "291332    -0.995948   -0.900561            -1.014030  \n",
       "1374804   -0.995948   -0.900561            -1.062789  \n",
       "\n",
       "[5 rows x 30 columns]"
      ]
     },
     "execution_count": 69,
     "metadata": {},
     "output_type": "execute_result"
    }
   ],
   "source": [
    "x_train.head()"
   ]
  },
  {
   "cell_type": "markdown",
   "metadata": {
    "id": "wwHc7cyTjTlo"
   },
   "source": [
    "## Converting Categorical Columns to Numerical using Onehot Encoding\n"
   ]
  },
  {
   "cell_type": "code",
   "execution_count": 70,
   "metadata": {
    "id": "74p_JSajiU-k"
   },
   "outputs": [],
   "source": [
    "# Onehot Encoding\n",
    "service_ = OneHotEncoder()\n",
    "proto_ = OneHotEncoder()\n",
    "state_ = OneHotEncoder()\n",
    "OneHE_service = service_.fit(x_train.service.values.reshape(-1,1))\n",
    "OneHE_proto = proto_.fit(x_train.proto.values.reshape(-1,1))\n",
    "OneHE_state = state_.fit(x_train.state.values.reshape(-1,1))"
   ]
  },
  {
   "cell_type": "code",
   "execution_count": 71,
   "metadata": {
    "id": "WJMHQYgDiU7t"
   },
   "outputs": [],
   "source": [
    "for col, OneHE in zip(['proto', 'service', 'state'], [OneHE_proto, OneHE_service, OneHE_state]):\n",
    "    x = OneHE.transform(x_train[col].values.reshape(-1,1)).tocsr()\n",
    "    tmp_df = pd.DataFrame(x.todense(), columns=[col+'_'+i for i in OneHE.categories_[0]])\n",
    "    x_train = pd.concat([x_train.drop(col, axis=1), pd.get_dummies(x_train[col], prefix=col)], axis=1)\n"
   ]
  },
  {
   "cell_type": "code",
   "execution_count": 72,
   "metadata": {
    "colab": {
     "base_uri": "https://localhost:8080/",
     "height": 300
    },
    "id": "F3sPu8T4iU42",
    "outputId": "dac2ba82-96d7-470e-9896-6abc4ee68576"
   },
   "outputs": [
    {
     "data": {
      "text/html": [
       "<div>\n",
       "<style scoped>\n",
       "    .dataframe tbody tr th:only-of-type {\n",
       "        vertical-align: middle;\n",
       "    }\n",
       "\n",
       "    .dataframe tbody tr th {\n",
       "        vertical-align: top;\n",
       "    }\n",
       "\n",
       "    .dataframe thead th {\n",
       "        text-align: right;\n",
       "    }\n",
       "</style>\n",
       "<table border=\"1\" class=\"dataframe\">\n",
       "  <thead>\n",
       "    <tr style=\"text-align: right;\">\n",
       "      <th></th>\n",
       "      <th>sttl</th>\n",
       "      <th>dttl</th>\n",
       "      <th>swin</th>\n",
       "      <th>trans_depth</th>\n",
       "      <th>res_bdy_len</th>\n",
       "      <th>stime</th>\n",
       "      <th>sintpkt</th>\n",
       "      <th>dintpkt</th>\n",
       "      <th>tcprtt</th>\n",
       "      <th>is_sm_ips_ports</th>\n",
       "      <th>...</th>\n",
       "      <th>state_INT</th>\n",
       "      <th>state_MAS</th>\n",
       "      <th>state_PAR</th>\n",
       "      <th>state_REQ</th>\n",
       "      <th>state_RST</th>\n",
       "      <th>state_TST</th>\n",
       "      <th>state_TXD</th>\n",
       "      <th>state_URH</th>\n",
       "      <th>state_URN</th>\n",
       "      <th>state_no</th>\n",
       "    </tr>\n",
       "  </thead>\n",
       "  <tbody>\n",
       "    <tr>\n",
       "      <th>2402763</th>\n",
       "      <td>-0.426026</td>\n",
       "      <td>-0.041411</td>\n",
       "      <td>-1.196659</td>\n",
       "      <td>-0.235102</td>\n",
       "      <td>-0.091645</td>\n",
       "      <td>0.879916</td>\n",
       "      <td>-0.069620</td>\n",
       "      <td>-0.055142</td>\n",
       "      <td>-0.136516</td>\n",
       "      <td>-0.04054</td>\n",
       "      <td>...</td>\n",
       "      <td>0</td>\n",
       "      <td>0</td>\n",
       "      <td>0</td>\n",
       "      <td>0</td>\n",
       "      <td>0</td>\n",
       "      <td>0</td>\n",
       "      <td>0</td>\n",
       "      <td>0</td>\n",
       "      <td>0</td>\n",
       "      <td>0</td>\n",
       "    </tr>\n",
       "    <tr>\n",
       "      <th>1262231</th>\n",
       "      <td>-0.010721</td>\n",
       "      <td>5.159522</td>\n",
       "      <td>0.835670</td>\n",
       "      <td>2.581900</td>\n",
       "      <td>-0.087771</td>\n",
       "      <td>0.851468</td>\n",
       "      <td>-0.058828</td>\n",
       "      <td>-0.037997</td>\n",
       "      <td>1.015976</td>\n",
       "      <td>-0.04054</td>\n",
       "      <td>...</td>\n",
       "      <td>0</td>\n",
       "      <td>0</td>\n",
       "      <td>0</td>\n",
       "      <td>0</td>\n",
       "      <td>0</td>\n",
       "      <td>0</td>\n",
       "      <td>0</td>\n",
       "      <td>0</td>\n",
       "      <td>0</td>\n",
       "      <td>0</td>\n",
       "    </tr>\n",
       "    <tr>\n",
       "      <th>1063079</th>\n",
       "      <td>-0.426026</td>\n",
       "      <td>-0.041411</td>\n",
       "      <td>0.835670</td>\n",
       "      <td>-0.235102</td>\n",
       "      <td>-0.091645</td>\n",
       "      <td>-1.136265</td>\n",
       "      <td>-0.060946</td>\n",
       "      <td>-0.046559</td>\n",
       "      <td>-0.117213</td>\n",
       "      <td>-0.04054</td>\n",
       "      <td>...</td>\n",
       "      <td>0</td>\n",
       "      <td>0</td>\n",
       "      <td>0</td>\n",
       "      <td>0</td>\n",
       "      <td>0</td>\n",
       "      <td>0</td>\n",
       "      <td>0</td>\n",
       "      <td>0</td>\n",
       "      <td>0</td>\n",
       "      <td>0</td>\n",
       "    </tr>\n",
       "    <tr>\n",
       "      <th>291332</th>\n",
       "      <td>-0.426026</td>\n",
       "      <td>-0.041411</td>\n",
       "      <td>-1.196659</td>\n",
       "      <td>-0.235102</td>\n",
       "      <td>-0.091645</td>\n",
       "      <td>-1.164897</td>\n",
       "      <td>-0.069618</td>\n",
       "      <td>-0.055140</td>\n",
       "      <td>-0.136516</td>\n",
       "      <td>-0.04054</td>\n",
       "      <td>...</td>\n",
       "      <td>0</td>\n",
       "      <td>0</td>\n",
       "      <td>0</td>\n",
       "      <td>0</td>\n",
       "      <td>0</td>\n",
       "      <td>0</td>\n",
       "      <td>0</td>\n",
       "      <td>0</td>\n",
       "      <td>0</td>\n",
       "      <td>0</td>\n",
       "    </tr>\n",
       "    <tr>\n",
       "      <th>1374804</th>\n",
       "      <td>-0.037515</td>\n",
       "      <td>-0.717766</td>\n",
       "      <td>-1.196659</td>\n",
       "      <td>-0.235102</td>\n",
       "      <td>-0.091645</td>\n",
       "      <td>0.854903</td>\n",
       "      <td>-0.069620</td>\n",
       "      <td>-0.055147</td>\n",
       "      <td>-0.136516</td>\n",
       "      <td>-0.04054</td>\n",
       "      <td>...</td>\n",
       "      <td>1</td>\n",
       "      <td>0</td>\n",
       "      <td>0</td>\n",
       "      <td>0</td>\n",
       "      <td>0</td>\n",
       "      <td>0</td>\n",
       "      <td>0</td>\n",
       "      <td>0</td>\n",
       "      <td>0</td>\n",
       "      <td>0</td>\n",
       "    </tr>\n",
       "  </tbody>\n",
       "</table>\n",
       "<p>5 rows × 191 columns</p>\n",
       "</div>"
      ],
      "text/plain": [
       "             sttl      dttl      swin  trans_depth  res_bdy_len     stime  \\\n",
       "2402763 -0.426026 -0.041411 -1.196659    -0.235102    -0.091645  0.879916   \n",
       "1262231 -0.010721  5.159522  0.835670     2.581900    -0.087771  0.851468   \n",
       "1063079 -0.426026 -0.041411  0.835670    -0.235102    -0.091645 -1.136265   \n",
       "291332  -0.426026 -0.041411 -1.196659    -0.235102    -0.091645 -1.164897   \n",
       "1374804 -0.037515 -0.717766 -1.196659    -0.235102    -0.091645  0.854903   \n",
       "\n",
       "          sintpkt   dintpkt    tcprtt  is_sm_ips_ports  ...  state_INT  \\\n",
       "2402763 -0.069620 -0.055142 -0.136516         -0.04054  ...          0   \n",
       "1262231 -0.058828 -0.037997  1.015976         -0.04054  ...          0   \n",
       "1063079 -0.060946 -0.046559 -0.117213         -0.04054  ...          0   \n",
       "291332  -0.069618 -0.055140 -0.136516         -0.04054  ...          0   \n",
       "1374804 -0.069620 -0.055147 -0.136516         -0.04054  ...          1   \n",
       "\n",
       "         state_MAS  state_PAR  state_REQ  state_RST  state_TST  state_TXD  \\\n",
       "2402763          0          0          0          0          0          0   \n",
       "1262231          0          0          0          0          0          0   \n",
       "1063079          0          0          0          0          0          0   \n",
       "291332           0          0          0          0          0          0   \n",
       "1374804          0          0          0          0          0          0   \n",
       "\n",
       "         state_URH  state_URN  state_no  \n",
       "2402763          0          0         0  \n",
       "1262231          0          0         0  \n",
       "1063079          0          0         0  \n",
       "291332           0          0         0  \n",
       "1374804          0          0         0  \n",
       "\n",
       "[5 rows x 191 columns]"
      ]
     },
     "execution_count": 72,
     "metadata": {},
     "output_type": "execute_result"
    }
   ],
   "source": [
    "x_train.head()"
   ]
  },
  {
   "cell_type": "markdown",
   "metadata": {
    "id": "dZdjeuMPjodG"
   },
   "source": [
    "## Pipeline functions"
   ]
  },
  {
   "cell_type": "code",
   "execution_count": 73,
   "metadata": {
    "id": "O4BL01c-iUri"
   },
   "outputs": [],
   "source": [
    "# Clean the data: remove Null, wrong calues, check for col datatype and fix them.\n",
    "def clean_data(data):\n",
    "\n",
    "    numerical_col = data.select_dtypes(include=np.number).columns \n",
    "    categorical_col = data.select_dtypes(exclude=np.number).columns \n",
    "    \n",
    "    for col in data.columns:\n",
    "        val = mode_values[col]  # Mode value of the column in train data\n",
    "        data[col] = data[col].fillna(value=val) # replace Null values with mode value\n",
    "        data[col] = data[col].replace(' ', value=val)\n",
    "        data[col] = data[col].apply(lambda x:\"none\" if x==\"-\" else x)\n",
    "\n",
    "        # Correcting binary columns\n",
    "        if col in 'binary_col':\n",
    "            data[col] = np.where(data[col]>1, val, data[col])\n",
    "\n",
    "    # Correcting datatype of columns\n",
    "    bad_dtypes = list(set(categorical_col) - set(cat_col))\n",
    "    for bad_col in bad_dtypes:\n",
    "        data[col] = data[col].astype(float)\n",
    "    \n",
    "    return data"
   ]
  },
  {
   "cell_type": "code",
   "execution_count": 74,
   "metadata": {
    "id": "9t2vO1xaiUo7"
   },
   "outputs": [],
   "source": [
    "# log1p function\n",
    "def apply_log1p(data):\n",
    "    for col in log1p_col:\n",
    "        new_col = col + '_log1p' \n",
    "        data[new_col] = data[col].apply(np.log1p) \n",
    "        data.drop(col, axis=1, inplace=True) \n",
    "    return data"
   ]
  },
  {
   "cell_type": "code",
   "execution_count": 75,
   "metadata": {
    "id": "wwltaKn2iUmW"
   },
   "outputs": [],
   "source": [
    "# Standarize the data\n",
    "def standardize(data):\n",
    "    data[num_col] = scaler.transform(data[num_col])\n",
    "    return data"
   ]
  },
  {
   "cell_type": "code",
   "execution_count": 76,
   "metadata": {
    "id": "0iKnkCMgiUft"
   },
   "outputs": [],
   "source": [
    "# OneHot Encoding the cat columns\n",
    "def OneHEncoding(data):\n",
    "\n",
    "    X1 = OneHE_service.transform(data['service'].values.reshape(-1, 1))\n",
    "    X2 = OneHE_proto.transform(data['proto'].values.reshape(-1, 1))\n",
    "    X3 = OneHE_state.transform(data['state'].values.reshape(-1, 1))\n",
    "    \n",
    "    data = pd.concat([data,\n",
    "                      pd.DataFrame(X2.toarray(), columns=['proto_'+i for i in OneHE_proto.categories_[0]]),\n",
    "                      pd.DataFrame(X1.toarray(), columns=['service_'+i for i in OneHE_service.categories_[0]]),\n",
    "                      pd.DataFrame(X3.toarray(), columns=['state_'+i for i in OneHE_state.categories_[0]])],\n",
    "                      axis=1)\n",
    "    \n",
    "    data.drop(['proto', 'service', 'state'], axis=1, inplace=True)\n",
    "\n",
    "    return data"
   ]
  },
  {
   "cell_type": "markdown",
   "metadata": {
    "id": "Wy_mHpb3inac"
   },
   "source": [
    "# Transforming Test Data"
   ]
  },
  {
   "cell_type": "code",
   "execution_count": 77,
   "metadata": {
    "id": "ASUSGx7kj5ok"
   },
   "outputs": [],
   "source": [
    "# Reset index\n",
    "x_test.reset_index(drop=True, inplace=True)"
   ]
  },
  {
   "cell_type": "code",
   "execution_count": 78,
   "metadata": {
    "colab": {
     "base_uri": "https://localhost:8080/"
    },
    "id": "HWAiZpwcEolQ",
    "outputId": "3d844eb1-d721-4319-fe2e-d123aef9b2f4"
   },
   "outputs": [
    {
     "data": {
      "text/plain": [
       "(889017, 48)"
      ]
     },
     "execution_count": 78,
     "metadata": {},
     "output_type": "execute_result"
    }
   ],
   "source": [
    "x_test.shape"
   ]
  },
  {
   "cell_type": "code",
   "execution_count": 79,
   "metadata": {
    "colab": {
     "base_uri": "https://localhost:8080/"
    },
    "id": "4eiaNjV5j5i_",
    "outputId": "a2d33211-e431-43ff-d9d0-37f2c5688415"
   },
   "outputs": [
    {
     "data": {
      "text/plain": [
       "Index(['srcip', 'sport', 'dstip', 'dsport', 'proto', 'state', 'dur', 'sbytes',\n",
       "       'dbytes', 'sttl', 'dttl', 'sloss', 'dloss', 'service', 'sload', 'dload',\n",
       "       'spkts', 'dpkts', 'swin', 'dwin', 'stcpb', 'dtcpb', 'smeansz',\n",
       "       'dmeansz', 'trans_depth', 'res_bdy_len', 'sjit', 'djit', 'stime',\n",
       "       'ltime', 'sintpkt', 'dintpkt', 'tcprtt', 'synack', 'ackdat',\n",
       "       'is_sm_ips_ports', 'ct_state_ttl', 'ct_flw_http_mthd', 'is_ftp_login',\n",
       "       'ct_ftp_cmd', 'ct_srv_src', 'ct_srv_dst', 'ct_dst_ltm', 'ct_src_ltm',\n",
       "       'ct_src_dport_ltm', 'ct_dst_sport_ltm', 'ct_dst_src_ltm', 'attack_cat'],\n",
       "      dtype='object', name='Name')"
      ]
     },
     "execution_count": 79,
     "metadata": {},
     "output_type": "execute_result"
    }
   ],
   "source": [
    "x_test.columns"
   ]
  },
  {
   "cell_type": "code",
   "execution_count": 80,
   "metadata": {
    "id": "yz9j140Nj5gT"
   },
   "outputs": [],
   "source": [
    "# Adding column names\n",
    "x_test.columns = saved_columns"
   ]
  },
  {
   "cell_type": "code",
   "execution_count": 81,
   "metadata": {
    "id": "K-F899cjj5do"
   },
   "outputs": [],
   "source": [
    "# Creating new Feature\n",
    "x_test['network_bytes'] = x_test['dbytes'] + x_test['sbytes']"
   ]
  },
  {
   "cell_type": "code",
   "execution_count": 82,
   "metadata": {
    "id": "ABp-0lzcj5bB"
   },
   "outputs": [],
   "source": [
    "# Removing the columns that are not needed\n",
    "dropable_col = saved_to_drop + corr_col\n",
    "x_test.drop(columns=dropable_col, inplace=True)"
   ]
  },
  {
   "cell_type": "code",
   "execution_count": 83,
   "metadata": {
    "colab": {
     "base_uri": "https://localhost:8080/"
    },
    "id": "Ua-DrU0loOOu",
    "outputId": "fce10153-3cfb-49dd-ebfb-0df325d0cd70"
   },
   "outputs": [
    {
     "data": {
      "text/plain": [
       "Index(['proto', 'state', 'dur', 'sbytes', 'dbytes', 'sttl', 'dttl', 'service',\n",
       "       'sload', 'dload', 'spkts', 'swin', 'stcpb', 'dtcpb', 'smeansz',\n",
       "       'dmeansz', 'trans_depth', 'res_bdy_len', 'sjit', 'djit', 'stime',\n",
       "       'sintpkt', 'dintpkt', 'tcprtt', 'is_sm_ips_ports', 'ct_flw_http_mthd',\n",
       "       'is_ftp_login', 'ct_ftp_cmd', 'ct_srv_src', 'network_bytes'],\n",
       "      dtype='object')"
      ]
     },
     "execution_count": 83,
     "metadata": {},
     "output_type": "execute_result"
    }
   ],
   "source": [
    "x_test.columns"
   ]
  },
  {
   "cell_type": "code",
   "execution_count": 84,
   "metadata": {
    "colab": {
     "base_uri": "https://localhost:8080/"
    },
    "id": "kH7O-o-lj5Yc",
    "outputId": "b86ba51c-d0a8-4be5-92e5-12f932e613ed"
   },
   "outputs": [
    {
     "data": {
      "text/plain": [
       "(889017, 30)"
      ]
     },
     "execution_count": 84,
     "metadata": {},
     "output_type": "execute_result"
    }
   ],
   "source": [
    "x_test.shape"
   ]
  },
  {
   "cell_type": "code",
   "execution_count": 85,
   "metadata": {
    "id": "powEryWjkL8c"
   },
   "outputs": [],
   "source": [
    "# apply log1p\n",
    "x_test = apply_log1p(x_test)"
   ]
  },
  {
   "cell_type": "code",
   "execution_count": 86,
   "metadata": {
    "id": "Mp-KaQc-kMBq"
   },
   "outputs": [],
   "source": [
    "# Clean the test data\n",
    "x_test = clean_data(x_test)"
   ]
  },
  {
   "cell_type": "code",
   "execution_count": 87,
   "metadata": {
    "colab": {
     "base_uri": "https://localhost:8080/"
    },
    "id": "xrtqmQMukL_E",
    "outputId": "b308da24-341d-4c86-f95a-dc6c7ec743e8"
   },
   "outputs": [
    {
     "data": {
      "text/plain": [
       "(889017, 30)"
      ]
     },
     "execution_count": 87,
     "metadata": {},
     "output_type": "execute_result"
    }
   ],
   "source": [
    "x_test.shape"
   ]
  },
  {
   "cell_type": "code",
   "execution_count": 88,
   "metadata": {
    "colab": {
     "base_uri": "https://localhost:8080/"
    },
    "id": "rNj5VJeXkL52",
    "outputId": "e8a8f4c5-b14f-40f8-c46a-db06d483ccfd"
   },
   "outputs": [
    {
     "data": {
      "text/plain": [
       "(889017, 30)"
      ]
     },
     "execution_count": 88,
     "metadata": {},
     "output_type": "execute_result"
    }
   ],
   "source": [
    "x_test.shape"
   ]
  },
  {
   "cell_type": "code",
   "execution_count": 89,
   "metadata": {
    "colab": {
     "base_uri": "https://localhost:8080/"
    },
    "id": "SnRZo1oIkL3Y",
    "outputId": "6d41e8dc-0053-45ad-c8c5-09c32d41e257"
   },
   "outputs": [
    {
     "data": {
      "text/plain": [
       "Index(['proto', 'state', 'sttl', 'dttl', 'service', 'swin', 'trans_depth',\n",
       "       'res_bdy_len', 'stime', 'sintpkt', 'dintpkt', 'tcprtt',\n",
       "       'is_sm_ips_ports', 'ct_flw_http_mthd', 'is_ftp_login', 'ct_ftp_cmd',\n",
       "       'ct_srv_src', 'dur_log1p', 'sbytes_log1p', 'dbytes_log1p',\n",
       "       'sload_log1p', 'dload_log1p', 'spkts_log1p', 'stcpb_log1p',\n",
       "       'dtcpb_log1p', 'smeansz_log1p', 'dmeansz_log1p', 'sjit_log1p',\n",
       "       'djit_log1p', 'network_bytes_log1p'],\n",
       "      dtype='object')"
      ]
     },
     "execution_count": 89,
     "metadata": {},
     "output_type": "execute_result"
    }
   ],
   "source": [
    "x_test.columns"
   ]
  },
  {
   "cell_type": "code",
   "execution_count": 90,
   "metadata": {
    "id": "WhxjGIUBkL0Y"
   },
   "outputs": [],
   "source": [
    "# Standardize the data\n",
    "x_test = standardize(x_test)"
   ]
  },
  {
   "cell_type": "code",
   "execution_count": 91,
   "metadata": {
    "colab": {
     "base_uri": "https://localhost:8080/",
     "height": 300
    },
    "id": "VfAhzXOFkLxy",
    "outputId": "05c5bbf0-e8ec-46d5-e82f-f9031deb5d6a"
   },
   "outputs": [
    {
     "data": {
      "text/html": [
       "<div>\n",
       "<style scoped>\n",
       "    .dataframe tbody tr th:only-of-type {\n",
       "        vertical-align: middle;\n",
       "    }\n",
       "\n",
       "    .dataframe tbody tr th {\n",
       "        vertical-align: top;\n",
       "    }\n",
       "\n",
       "    .dataframe thead th {\n",
       "        text-align: right;\n",
       "    }\n",
       "</style>\n",
       "<table border=\"1\" class=\"dataframe\">\n",
       "  <thead>\n",
       "    <tr style=\"text-align: right;\">\n",
       "      <th></th>\n",
       "      <th>proto</th>\n",
       "      <th>state</th>\n",
       "      <th>sttl</th>\n",
       "      <th>dttl</th>\n",
       "      <th>service</th>\n",
       "      <th>swin</th>\n",
       "      <th>trans_depth</th>\n",
       "      <th>res_bdy_len</th>\n",
       "      <th>stime</th>\n",
       "      <th>sintpkt</th>\n",
       "      <th>...</th>\n",
       "      <th>sload_log1p</th>\n",
       "      <th>dload_log1p</th>\n",
       "      <th>spkts_log1p</th>\n",
       "      <th>stcpb_log1p</th>\n",
       "      <th>dtcpb_log1p</th>\n",
       "      <th>smeansz_log1p</th>\n",
       "      <th>dmeansz_log1p</th>\n",
       "      <th>sjit_log1p</th>\n",
       "      <th>djit_log1p</th>\n",
       "      <th>network_bytes_log1p</th>\n",
       "    </tr>\n",
       "  </thead>\n",
       "  <tbody>\n",
       "    <tr>\n",
       "      <th>0</th>\n",
       "      <td>udp</td>\n",
       "      <td>CON</td>\n",
       "      <td>-0.426026</td>\n",
       "      <td>-0.041411</td>\n",
       "      <td>none</td>\n",
       "      <td>-1.196659</td>\n",
       "      <td>-0.235102</td>\n",
       "      <td>-0.091645</td>\n",
       "      <td>0.866760</td>\n",
       "      <td>-0.062785</td>\n",
       "      <td>...</td>\n",
       "      <td>-0.932593</td>\n",
       "      <td>-0.099913</td>\n",
       "      <td>-0.705650</td>\n",
       "      <td>-1.190677</td>\n",
       "      <td>-1.190384</td>\n",
       "      <td>0.589775</td>\n",
       "      <td>0.028713</td>\n",
       "      <td>0.033228</td>\n",
       "      <td>-0.036746</td>\n",
       "      <td>-0.568857</td>\n",
       "    </tr>\n",
       "    <tr>\n",
       "      <th>1</th>\n",
       "      <td>udp</td>\n",
       "      <td>INT</td>\n",
       "      <td>2.561488</td>\n",
       "      <td>-0.717766</td>\n",
       "      <td>dns</td>\n",
       "      <td>-1.196659</td>\n",
       "      <td>-0.235102</td>\n",
       "      <td>-0.091645</td>\n",
       "      <td>0.863466</td>\n",
       "      <td>-0.069621</td>\n",
       "      <td>...</td>\n",
       "      <td>1.568372</td>\n",
       "      <td>-1.880240</td>\n",
       "      <td>-1.081480</td>\n",
       "      <td>-1.190677</td>\n",
       "      <td>-1.190384</td>\n",
       "      <td>-0.765558</td>\n",
       "      <td>-1.850870</td>\n",
       "      <td>-0.995948</td>\n",
       "      <td>-0.900561</td>\n",
       "      <td>-1.419830</td>\n",
       "    </tr>\n",
       "    <tr>\n",
       "      <th>2</th>\n",
       "      <td>tcp</td>\n",
       "      <td>FIN</td>\n",
       "      <td>-0.426026</td>\n",
       "      <td>-0.041411</td>\n",
       "      <td>none</td>\n",
       "      <td>0.835670</td>\n",
       "      <td>-0.235102</td>\n",
       "      <td>-0.091645</td>\n",
       "      <td>0.849247</td>\n",
       "      <td>-0.069468</td>\n",
       "      <td>...</td>\n",
       "      <td>0.190731</td>\n",
       "      <td>0.757816</td>\n",
       "      <td>-0.002652</td>\n",
       "      <td>0.860323</td>\n",
       "      <td>0.928978</td>\n",
       "      <td>-0.115085</td>\n",
       "      <td>0.419539</td>\n",
       "      <td>-0.025006</td>\n",
       "      <td>-0.757188</td>\n",
       "      <td>0.015713</td>\n",
       "    </tr>\n",
       "    <tr>\n",
       "      <th>3</th>\n",
       "      <td>udp</td>\n",
       "      <td>INT</td>\n",
       "      <td>2.561488</td>\n",
       "      <td>-0.717766</td>\n",
       "      <td>none</td>\n",
       "      <td>-1.196659</td>\n",
       "      <td>-0.235102</td>\n",
       "      <td>-0.091645</td>\n",
       "      <td>0.868085</td>\n",
       "      <td>-0.069620</td>\n",
       "      <td>...</td>\n",
       "      <td>1.318596</td>\n",
       "      <td>-1.880240</td>\n",
       "      <td>-1.081480</td>\n",
       "      <td>-1.190677</td>\n",
       "      <td>-1.190384</td>\n",
       "      <td>-0.910184</td>\n",
       "      <td>-1.850870</td>\n",
       "      <td>-0.995948</td>\n",
       "      <td>-0.900561</td>\n",
       "      <td>-1.458738</td>\n",
       "    </tr>\n",
       "    <tr>\n",
       "      <th>4</th>\n",
       "      <td>tcp</td>\n",
       "      <td>FIN</td>\n",
       "      <td>-0.426026</td>\n",
       "      <td>-0.041411</td>\n",
       "      <td>none</td>\n",
       "      <td>0.835670</td>\n",
       "      <td>-0.235102</td>\n",
       "      <td>-0.091645</td>\n",
       "      <td>-1.160462</td>\n",
       "      <td>-0.069509</td>\n",
       "      <td>...</td>\n",
       "      <td>0.207038</td>\n",
       "      <td>0.992077</td>\n",
       "      <td>0.805629</td>\n",
       "      <td>0.883535</td>\n",
       "      <td>0.722571</td>\n",
       "      <td>-0.582761</td>\n",
       "      <td>0.819651</td>\n",
       "      <td>-0.071283</td>\n",
       "      <td>0.135441</td>\n",
       "      <td>0.818932</td>\n",
       "    </tr>\n",
       "  </tbody>\n",
       "</table>\n",
       "<p>5 rows × 30 columns</p>\n",
       "</div>"
      ],
      "text/plain": [
       "  proto state      sttl      dttl service      swin  trans_depth  res_bdy_len  \\\n",
       "0   udp   CON -0.426026 -0.041411    none -1.196659    -0.235102    -0.091645   \n",
       "1   udp   INT  2.561488 -0.717766     dns -1.196659    -0.235102    -0.091645   \n",
       "2   tcp   FIN -0.426026 -0.041411    none  0.835670    -0.235102    -0.091645   \n",
       "3   udp   INT  2.561488 -0.717766    none -1.196659    -0.235102    -0.091645   \n",
       "4   tcp   FIN -0.426026 -0.041411    none  0.835670    -0.235102    -0.091645   \n",
       "\n",
       "      stime   sintpkt  ...  sload_log1p  dload_log1p  spkts_log1p  \\\n",
       "0  0.866760 -0.062785  ...    -0.932593    -0.099913    -0.705650   \n",
       "1  0.863466 -0.069621  ...     1.568372    -1.880240    -1.081480   \n",
       "2  0.849247 -0.069468  ...     0.190731     0.757816    -0.002652   \n",
       "3  0.868085 -0.069620  ...     1.318596    -1.880240    -1.081480   \n",
       "4 -1.160462 -0.069509  ...     0.207038     0.992077     0.805629   \n",
       "\n",
       "   stcpb_log1p  dtcpb_log1p  smeansz_log1p  dmeansz_log1p  sjit_log1p  \\\n",
       "0    -1.190677    -1.190384       0.589775       0.028713    0.033228   \n",
       "1    -1.190677    -1.190384      -0.765558      -1.850870   -0.995948   \n",
       "2     0.860323     0.928978      -0.115085       0.419539   -0.025006   \n",
       "3    -1.190677    -1.190384      -0.910184      -1.850870   -0.995948   \n",
       "4     0.883535     0.722571      -0.582761       0.819651   -0.071283   \n",
       "\n",
       "   djit_log1p  network_bytes_log1p  \n",
       "0   -0.036746            -0.568857  \n",
       "1   -0.900561            -1.419830  \n",
       "2   -0.757188             0.015713  \n",
       "3   -0.900561            -1.458738  \n",
       "4    0.135441             0.818932  \n",
       "\n",
       "[5 rows x 30 columns]"
      ]
     },
     "execution_count": 91,
     "metadata": {},
     "output_type": "execute_result"
    }
   ],
   "source": [
    "x_test.head()"
   ]
  },
  {
   "cell_type": "code",
   "execution_count": 92,
   "metadata": {
    "id": "S_yT5HlxkLwF"
   },
   "outputs": [],
   "source": [
    "# OHE\n",
    "x_test = OneHEncoding(x_test)"
   ]
  },
  {
   "cell_type": "code",
   "execution_count": 93,
   "metadata": {
    "colab": {
     "base_uri": "https://localhost:8080/"
    },
    "id": "fBHKnQ4NkLvJ",
    "outputId": "f7bd3ddf-58b0-4653-ad56-3656aadc555a"
   },
   "outputs": [
    {
     "data": {
      "text/plain": [
       "(889017, 191)"
      ]
     },
     "execution_count": 93,
     "metadata": {},
     "output_type": "execute_result"
    }
   ],
   "source": [
    "x_test.shape"
   ]
  },
  {
   "cell_type": "code",
   "execution_count": 94,
   "metadata": {
    "colab": {
     "base_uri": "https://localhost:8080/",
     "height": 300
    },
    "id": "4R-OWve9kdZu",
    "outputId": "10827405-0ccd-4fe4-c3f9-8c12465c6223"
   },
   "outputs": [
    {
     "data": {
      "text/html": [
       "<div>\n",
       "<style scoped>\n",
       "    .dataframe tbody tr th:only-of-type {\n",
       "        vertical-align: middle;\n",
       "    }\n",
       "\n",
       "    .dataframe tbody tr th {\n",
       "        vertical-align: top;\n",
       "    }\n",
       "\n",
       "    .dataframe thead th {\n",
       "        text-align: right;\n",
       "    }\n",
       "</style>\n",
       "<table border=\"1\" class=\"dataframe\">\n",
       "  <thead>\n",
       "    <tr style=\"text-align: right;\">\n",
       "      <th></th>\n",
       "      <th>sttl</th>\n",
       "      <th>dttl</th>\n",
       "      <th>swin</th>\n",
       "      <th>trans_depth</th>\n",
       "      <th>res_bdy_len</th>\n",
       "      <th>stime</th>\n",
       "      <th>sintpkt</th>\n",
       "      <th>dintpkt</th>\n",
       "      <th>tcprtt</th>\n",
       "      <th>is_sm_ips_ports</th>\n",
       "      <th>...</th>\n",
       "      <th>state_INT</th>\n",
       "      <th>state_MAS</th>\n",
       "      <th>state_PAR</th>\n",
       "      <th>state_REQ</th>\n",
       "      <th>state_RST</th>\n",
       "      <th>state_TST</th>\n",
       "      <th>state_TXD</th>\n",
       "      <th>state_URH</th>\n",
       "      <th>state_URN</th>\n",
       "      <th>state_no</th>\n",
       "    </tr>\n",
       "  </thead>\n",
       "  <tbody>\n",
       "    <tr>\n",
       "      <th>0</th>\n",
       "      <td>-0.426026</td>\n",
       "      <td>-0.041411</td>\n",
       "      <td>-1.196659</td>\n",
       "      <td>-0.235102</td>\n",
       "      <td>-0.091645</td>\n",
       "      <td>0.866760</td>\n",
       "      <td>-0.062785</td>\n",
       "      <td>-0.050078</td>\n",
       "      <td>-0.136516</td>\n",
       "      <td>-0.04054</td>\n",
       "      <td>...</td>\n",
       "      <td>0.0</td>\n",
       "      <td>0.0</td>\n",
       "      <td>0.0</td>\n",
       "      <td>0.0</td>\n",
       "      <td>0.0</td>\n",
       "      <td>0.0</td>\n",
       "      <td>0.0</td>\n",
       "      <td>0.0</td>\n",
       "      <td>0.0</td>\n",
       "      <td>0.0</td>\n",
       "    </tr>\n",
       "    <tr>\n",
       "      <th>1</th>\n",
       "      <td>2.561488</td>\n",
       "      <td>-0.717766</td>\n",
       "      <td>-1.196659</td>\n",
       "      <td>-0.235102</td>\n",
       "      <td>-0.091645</td>\n",
       "      <td>0.863466</td>\n",
       "      <td>-0.069621</td>\n",
       "      <td>-0.055147</td>\n",
       "      <td>-0.136516</td>\n",
       "      <td>-0.04054</td>\n",
       "      <td>...</td>\n",
       "      <td>1.0</td>\n",
       "      <td>0.0</td>\n",
       "      <td>0.0</td>\n",
       "      <td>0.0</td>\n",
       "      <td>0.0</td>\n",
       "      <td>0.0</td>\n",
       "      <td>0.0</td>\n",
       "      <td>0.0</td>\n",
       "      <td>0.0</td>\n",
       "      <td>0.0</td>\n",
       "    </tr>\n",
       "    <tr>\n",
       "      <th>2</th>\n",
       "      <td>-0.426026</td>\n",
       "      <td>-0.041411</td>\n",
       "      <td>0.835670</td>\n",
       "      <td>-0.235102</td>\n",
       "      <td>-0.091645</td>\n",
       "      <td>0.849247</td>\n",
       "      <td>-0.069468</td>\n",
       "      <td>-0.054881</td>\n",
       "      <td>-0.115418</td>\n",
       "      <td>-0.04054</td>\n",
       "      <td>...</td>\n",
       "      <td>0.0</td>\n",
       "      <td>0.0</td>\n",
       "      <td>0.0</td>\n",
       "      <td>0.0</td>\n",
       "      <td>0.0</td>\n",
       "      <td>0.0</td>\n",
       "      <td>0.0</td>\n",
       "      <td>0.0</td>\n",
       "      <td>0.0</td>\n",
       "      <td>0.0</td>\n",
       "    </tr>\n",
       "    <tr>\n",
       "      <th>3</th>\n",
       "      <td>2.561488</td>\n",
       "      <td>-0.717766</td>\n",
       "      <td>-1.196659</td>\n",
       "      <td>-0.235102</td>\n",
       "      <td>-0.091645</td>\n",
       "      <td>0.868085</td>\n",
       "      <td>-0.069620</td>\n",
       "      <td>-0.055147</td>\n",
       "      <td>-0.136516</td>\n",
       "      <td>-0.04054</td>\n",
       "      <td>...</td>\n",
       "      <td>1.0</td>\n",
       "      <td>0.0</td>\n",
       "      <td>0.0</td>\n",
       "      <td>0.0</td>\n",
       "      <td>0.0</td>\n",
       "      <td>0.0</td>\n",
       "      <td>0.0</td>\n",
       "      <td>0.0</td>\n",
       "      <td>0.0</td>\n",
       "      <td>0.0</td>\n",
       "    </tr>\n",
       "    <tr>\n",
       "      <th>4</th>\n",
       "      <td>-0.426026</td>\n",
       "      <td>-0.041411</td>\n",
       "      <td>0.835670</td>\n",
       "      <td>-0.235102</td>\n",
       "      <td>-0.091645</td>\n",
       "      <td>-1.160462</td>\n",
       "      <td>-0.069509</td>\n",
       "      <td>-0.054944</td>\n",
       "      <td>-0.121114</td>\n",
       "      <td>-0.04054</td>\n",
       "      <td>...</td>\n",
       "      <td>0.0</td>\n",
       "      <td>0.0</td>\n",
       "      <td>0.0</td>\n",
       "      <td>0.0</td>\n",
       "      <td>0.0</td>\n",
       "      <td>0.0</td>\n",
       "      <td>0.0</td>\n",
       "      <td>0.0</td>\n",
       "      <td>0.0</td>\n",
       "      <td>0.0</td>\n",
       "    </tr>\n",
       "  </tbody>\n",
       "</table>\n",
       "<p>5 rows × 191 columns</p>\n",
       "</div>"
      ],
      "text/plain": [
       "       sttl      dttl      swin  trans_depth  res_bdy_len     stime   sintpkt  \\\n",
       "0 -0.426026 -0.041411 -1.196659    -0.235102    -0.091645  0.866760 -0.062785   \n",
       "1  2.561488 -0.717766 -1.196659    -0.235102    -0.091645  0.863466 -0.069621   \n",
       "2 -0.426026 -0.041411  0.835670    -0.235102    -0.091645  0.849247 -0.069468   \n",
       "3  2.561488 -0.717766 -1.196659    -0.235102    -0.091645  0.868085 -0.069620   \n",
       "4 -0.426026 -0.041411  0.835670    -0.235102    -0.091645 -1.160462 -0.069509   \n",
       "\n",
       "    dintpkt    tcprtt  is_sm_ips_ports  ...  state_INT  state_MAS  state_PAR  \\\n",
       "0 -0.050078 -0.136516         -0.04054  ...        0.0        0.0        0.0   \n",
       "1 -0.055147 -0.136516         -0.04054  ...        1.0        0.0        0.0   \n",
       "2 -0.054881 -0.115418         -0.04054  ...        0.0        0.0        0.0   \n",
       "3 -0.055147 -0.136516         -0.04054  ...        1.0        0.0        0.0   \n",
       "4 -0.054944 -0.121114         -0.04054  ...        0.0        0.0        0.0   \n",
       "\n",
       "   state_REQ  state_RST  state_TST  state_TXD  state_URH  state_URN  state_no  \n",
       "0        0.0        0.0        0.0        0.0        0.0        0.0       0.0  \n",
       "1        0.0        0.0        0.0        0.0        0.0        0.0       0.0  \n",
       "2        0.0        0.0        0.0        0.0        0.0        0.0       0.0  \n",
       "3        0.0        0.0        0.0        0.0        0.0        0.0       0.0  \n",
       "4        0.0        0.0        0.0        0.0        0.0        0.0       0.0  \n",
       "\n",
       "[5 rows x 191 columns]"
      ]
     },
     "execution_count": 94,
     "metadata": {},
     "output_type": "execute_result"
    }
   ],
   "source": [
    "# Final test data\n",
    "x_test.head()"
   ]
  },
  {
   "cell_type": "code",
   "execution_count": 95,
   "metadata": {
    "colab": {
     "base_uri": "https://localhost:8080/"
    },
    "id": "f7ITOqPbkdQS",
    "outputId": "0ccf95d6-22bd-4a8b-f20b-741d7c6c8e8c"
   },
   "outputs": [
    {
     "data": {
      "text/plain": [
       "True"
      ]
     },
     "execution_count": 95,
     "metadata": {},
     "output_type": "execute_result"
    }
   ],
   "source": [
    "# Check if train and test data have same columns\n",
    "all(x_train.columns == x_test.columns)"
   ]
  },
  {
   "cell_type": "code",
   "execution_count": 96,
   "metadata": {
    "id": "AvvFHscHAhKw"
   },
   "outputs": [],
   "source": [
    "#To calculate the false alarm rate\n",
    "def false_alarm_rate(y_true, y_pred):\n",
    "  \n",
    "    tn, fp, fn, tp = confusion_matrix(y_true, y_pred).ravel()\n",
    "    FPR = fp / (fp + tn)  # False positive rate\n",
    "    FNR = fn / (fn + tp)  # False negetive rate\n",
    "    return (FPR+FNR)/2  # False alarm rate"
   ]
  },
  {
   "cell_type": "code",
   "execution_count": 97,
   "metadata": {
    "id": "9nxpP9WIAutH"
   },
   "outputs": [],
   "source": [
    "from sklearn.linear_model import LogisticRegression, SGDClassifier \n",
    "from sklearn.svm import LinearSVC  \n",
    "from sklearn.tree import DecisionTreeClassifier  \n",
    "from sklearn.ensemble import RandomForestClassifier  \n",
    "\n",
    "from sklearn.metrics import accuracy_score, confusion_matrix, make_scorer  \n",
    "from sklearn.metrics import auc, f1_score, roc_curve, roc_auc_score  \n",
    "from sklearn.model_selection import GridSearchCV, RandomizedSearchCV  \n",
    "\n",
    "%matplotlib inline"
   ]
  },
  {
   "cell_type": "markdown",
   "metadata": {},
   "source": [
    "# Logistic Regression with L2 regularization"
   ]
  },
  {
   "cell_type": "code",
   "execution_count": 98,
   "metadata": {
    "id": "pVcYZ0G5An0P"
   },
   "outputs": [
    {
     "name": "stdout",
     "output_type": "stream",
     "text": [
      "epoch: 0   ,    accuracy_score: 0.9873799991520444\n",
      "epoch: 1   ,    accuracy_score: 0.9873921128023113\n",
      "epoch: 2   ,    accuracy_score: 0.9872303955712495\n",
      "epoch: 3   ,    accuracy_score: 0.9872134364608759\n",
      "epoch: 4   ,    accuracy_score: 0.9874472299110253\n",
      "epoch: 5   ,    accuracy_score: 0.9872661308395365\n",
      "epoch: 6   ,    accuracy_score: 0.9873963525799047\n",
      "epoch: 7   ,    accuracy_score: 0.9872909638225835\n",
      "epoch: 8   ,    accuracy_score: 0.9873902957547712\n",
      "epoch: 9   ,    accuracy_score: 0.9873279104558972\n"
     ]
    },
    {
     "data": {
      "image/png": "[encoded data removed]",
      "text/plain": [
       "<Figure size 500x500 with 2 Axes>"
      ]
     },
     "metadata": {},
     "output_type": "display_data"
    }
   ],
   "source": [
    "# Tuning \"alpha\" for l2 \"penalty\"\n",
    "from sklearn.metrics import precision_recall_fscore_support\n",
    "from sklearn.metrics import classification_report\n",
    "clf = SGDClassifier(loss='log', penalty='l2')\n",
    "epochs = 10\n",
    "for i in range(epochs):\n",
    "    clf.fit(x_train,y_train)\n",
    "    y_pred = clf.predict(x_train)\n",
    "    acc_score = accuracy_score(y_pred, y_train)\n",
    "    acc_score\n",
    "    print(\"epoch: {}   ,    accuracy_score: {}\".format(i,acc_score))\n",
    "\n",
    "l2_train_precision,l2_train_recall,l2_train_fscore,none= precision_recall_fscore_support(y_train, y_pred, average='weighted') \n",
    "\n",
    "cm=confusion_matrix(y_train,y_pred)\n",
    "f,ax=plt.subplots(figsize=(5,5))\n",
    "sns.heatmap(cm,annot=True,linewidth=0.5,linecolor=\"red\",fmt=\".0f\",ax=ax)\n",
    "plt.xlabel(\"y_pred\")\n",
    "plt.ylabel(\"y_true\")\n",
    "plt.show()"
   ]
  },
  {
   "cell_type": "code",
   "execution_count": 99,
   "metadata": {
    "id": "hMlu3XLzBDNJ"
   },
   "outputs": [
    {
     "name": "stdout",
     "output_type": "stream",
     "text": [
      "              precision    recall  f1-score   support\n",
      "\n",
      "           0       1.00      0.99      0.99   1442045\n",
      "           1       0.93      0.97      0.95    208985\n",
      "\n",
      "    accuracy                           0.99   1651030\n",
      "   macro avg       0.96      0.98      0.97   1651030\n",
      "weighted avg       0.99      0.99      0.99   1651030\n",
      "\n"
     ]
    }
   ],
   "source": [
    "print(classification_report(y_train,y_pred))\n",
    "# An empty dictionary to store the result of all the models\n",
    "result_dict_train = {\"name\":[], \"auc\":[], \"f1\":[], \"recall\":[]}"
   ]
  },
  {
   "cell_type": "code",
   "execution_count": 100,
   "metadata": {
    "id": "LFcEyrzDBMkE"
   },
   "outputs": [],
   "source": [
    "result_dict_train['name'].append(\"LR with l2 penalty\")\n",
    "result_dict_train['auc'].append(l2_train_precision)\n",
    "result_dict_train['f1'].append(l2_train_fscore)\n",
    "result_dict_train['recall'].append(l2_train_recall)"
   ]
  },
  {
   "cell_type": "code",
   "execution_count": 101,
   "metadata": {
    "id": "uarS44DHBQ_r"
   },
   "outputs": [],
   "source": [
    "result_dict_test = {\"name\":[], \"auc\":[], \"f1\":[], \"recall\":[]}"
   ]
  },
  {
   "cell_type": "code",
   "execution_count": 102,
   "metadata": {
    "id": "u_g_ZWvsBToo"
   },
   "outputs": [
    {
     "name": "stdout",
     "output_type": "stream",
     "text": [
      "accuracy_score: 0.9873781941177727\n"
     ]
    },
    {
     "data": {
      "image/png": "[encoded data removed]",
      "text/plain": [
       "<Figure size 500x500 with 2 Axes>"
      ]
     },
     "metadata": {},
     "output_type": "display_data"
    }
   ],
   "source": [
    "y_pred = clf.predict(x_test)\n",
    "acc_score = accuracy_score(y_pred, y_test)\n",
    "acc_score\n",
    "print(\"accuracy_score: {}\".format(acc_score))\n",
    "\n",
    "l2_test_precision,l2_test_recall,l2_test_fscore,none= precision_recall_fscore_support(y_test, y_pred, average='weighted') \n",
    "\n",
    "cm=confusion_matrix(y_test,y_pred)\n",
    "f,ax=plt.subplots(figsize=(5,5))\n",
    "sns.heatmap(cm,annot=True,linewidth=0.5,linecolor=\"red\",fmt=\".0f\",ax=ax)\n",
    "plt.xlabel(\"y_pred\")\n",
    "plt.ylabel(\"y_true\")\n",
    "plt.show()"
   ]
  },
  {
   "cell_type": "code",
   "execution_count": 103,
   "metadata": {
    "id": "515GHR4eBZkn"
   },
   "outputs": [],
   "source": [
    "result_dict_test['name'].append(\"LR with l2 penalty\")\n",
    "result_dict_test['auc'].append(l2_test_precision)\n",
    "result_dict_test['f1'].append(l2_test_fscore)\n",
    "result_dict_test['recall'].append(l2_test_recall)"
   ]
  },
  {
   "cell_type": "code",
   "execution_count": 104,
   "metadata": {
    "id": "w2yCiEtMBcAn"
   },
   "outputs": [
    {
     "name": "stdout",
     "output_type": "stream",
     "text": [
      "              precision    recall  f1-score   support\n",
      "\n",
      "           0       1.00      0.99      0.99    776719\n",
      "           1       0.93      0.97      0.95    112298\n",
      "\n",
      "    accuracy                           0.99    889017\n",
      "   macro avg       0.96      0.98      0.97    889017\n",
      "weighted avg       0.99      0.99      0.99    889017\n",
      "\n"
     ]
    }
   ],
   "source": [
    "print(classification_report(y_test,y_pred))\n"
   ]
  },
  {
   "cell_type": "markdown",
   "metadata": {},
   "source": [
    "# Logistic Regression with L2 regularization"
   ]
  },
  {
   "cell_type": "code",
   "execution_count": 115,
   "metadata": {
    "id": "tzQpWMqCBfGz"
   },
   "outputs": [
    {
     "name": "stdout",
     "output_type": "stream",
     "text": [
      "epoch: 0   ,    accuracy_score: 0.9870632271975676\n",
      "epoch: 1   ,    accuracy_score: 0.9878875610982235\n",
      "epoch: 2   ,    accuracy_score: 0.9875889596191468\n",
      "epoch: 3   ,    accuracy_score: 0.9871110761161215\n",
      "epoch: 4   ,    accuracy_score: 0.9876967711065214\n",
      "epoch: 5   ,    accuracy_score: 0.9875665493661533\n",
      "epoch: 6   ,    accuracy_score: 0.9873006547427969\n",
      "epoch: 7   ,    accuracy_score: 0.9865871607420822\n",
      "epoch: 8   ,    accuracy_score: 0.9875544357158864\n",
      "epoch: 9   ,    accuracy_score: 0.9874121003252515\n",
      "Precision of SGD Classifier with l1 penality : 0.9873957880304887\n",
      "Recall of SGD Classifier with l1 penality: 0.9874121003252515\n",
      "F1-score of SGD Classifier with l1 penality: 0.9874035989912976\n"
     ]
    },
    {
     "data": {
      "image/png": "[encoded data removed]",
      "text/plain": [
       "<Figure size 500x500 with 2 Axes>"
      ]
     },
     "metadata": {},
     "output_type": "display_data"
    }
   ],
   "source": [
    "# Tuning \"alpha\" for l1 \"penalty\"\n",
    "clf = SGDClassifier(loss='log', penalty='l1',early_stopping=True)\n",
    "epochs = 10\n",
    "for i in range(epochs):\n",
    "    clf.fit(x_train,y_train)\n",
    "    y_pred = clf.predict(x_train)\n",
    "    acc_score = accuracy_score(y_pred, y_train)\n",
    "    acc_score\n",
    "    print(\"epoch: {}   ,    accuracy_score: {}\".format(i,acc_score))\n",
    "\n",
    "l1_train_precision,l1_train_recall,l1_train_fscore,none= precision_recall_fscore_support(y_train, y_pred, average='weighted') \n",
    "print('Precision of SGD Classifier with l1 penality : '+(str(l1_train_precision)))\n",
    "print('Recall of SGD Classifier with l1 penality: '+(str(l1_train_recall)))\n",
    "print('F1-score of SGD Classifier with l1 penality: '+(str(l1_train_fscore)))\n",
    "cm=confusion_matrix(y_train,y_pred)\n",
    "f,ax=plt.subplots(figsize=(5,5))\n",
    "sns.heatmap(cm,annot=True,linewidth=0.5,linecolor=\"red\",fmt=\".0f\",ax=ax)\n",
    "plt.xlabel(\"y_pred\")\n",
    "plt.ylabel(\"y_true\")\n",
    "plt.show()\n",
    "\n"
   ]
  },
  {
   "cell_type": "code",
   "execution_count": 116,
   "metadata": {
    "id": "29XTpkb5BxJ_"
   },
   "outputs": [
    {
     "name": "stdout",
     "output_type": "stream",
     "text": [
      "              precision    recall  f1-score   support\n",
      "\n",
      "           0       0.99      0.99      0.99   1442045\n",
      "           1       0.95      0.95      0.95    208985\n",
      "\n",
      "    accuracy                           0.99   1651030\n",
      "   macro avg       0.97      0.97      0.97   1651030\n",
      "weighted avg       0.99      0.99      0.99   1651030\n",
      "\n"
     ]
    }
   ],
   "source": [
    "print(classification_report(y_train,y_pred))"
   ]
  },
  {
   "cell_type": "code",
   "execution_count": 117,
   "metadata": {
    "id": "jrPNEJ0KB02N"
   },
   "outputs": [],
   "source": [
    "result_dict_train['name'].append(\"Logistic Regression with l1 penalty\")\n",
    "result_dict_train['auc'].append(l1_train_precision)\n",
    "result_dict_train['f1'].append(l1_train_fscore)\n",
    "result_dict_train['recall'].append(l1_train_recall)"
   ]
  },
  {
   "cell_type": "code",
   "execution_count": 118,
   "metadata": {
    "id": "FVmvbsw6B5ME"
   },
   "outputs": [
    {
     "name": "stdout",
     "output_type": "stream",
     "text": [
      "accuracy_score: 0.9873365751161114\n"
     ]
    },
    {
     "data": {
      "image/png": "[encoded data removed]",
      "text/plain": [
       "<Figure size 500x500 with 2 Axes>"
      ]
     },
     "metadata": {},
     "output_type": "display_data"
    }
   ],
   "source": [
    "y_pred = clf.predict(x_test)\n",
    "acc_score = accuracy_score(y_pred, y_test)\n",
    "acc_score\n",
    "print(\"accuracy_score: {}\".format(acc_score))\n",
    "\n",
    "l1_test_precision,l1_test_recall,l1_test_fscore,none= precision_recall_fscore_support(y_test, y_pred, average='weighted') \n",
    "cm=confusion_matrix(y_test,y_pred)\n",
    "f,ax=plt.subplots(figsize=(5,5))\n",
    "sns.heatmap(cm,annot=True,linewidth=0.5,linecolor=\"red\",fmt=\".0f\",ax=ax)\n",
    "plt.xlabel(\"y_pred\")\n",
    "plt.ylabel(\"y_true\")\n",
    "plt.show()"
   ]
  },
  {
   "cell_type": "code",
   "execution_count": 119,
   "metadata": {
    "id": "P8pd4IN2B9Ju"
   },
   "outputs": [
    {
     "name": "stdout",
     "output_type": "stream",
     "text": [
      "              precision    recall  f1-score   support\n",
      "\n",
      "           0       0.99      0.99      0.99    776719\n",
      "           1       0.95      0.95      0.95    112298\n",
      "\n",
      "    accuracy                           0.99    889017\n",
      "   macro avg       0.97      0.97      0.97    889017\n",
      "weighted avg       0.99      0.99      0.99    889017\n",
      "\n"
     ]
    }
   ],
   "source": [
    "print(classification_report(y_test,y_pred))"
   ]
  },
  {
   "cell_type": "code",
   "execution_count": 122,
   "metadata": {
    "id": "EaBy2SkCB_T_"
   },
   "outputs": [],
   "source": [
    "result_dict_test['name'].append(\"LR with l1 penalty\")\n",
    "result_dict_test['auc'].append(l1_test_precision)\n",
    "result_dict_test['f1'].append(l1_test_fscore)\n",
    "result_dict_test['recall'].append(l1_test_recall)"
   ]
  },
  {
   "cell_type": "markdown",
   "metadata": {},
   "source": [
    "# Linear SVM"
   ]
  },
  {
   "cell_type": "code",
   "execution_count": 121,
   "metadata": {
    "id": "Owqsb8kkCDDD"
   },
   "outputs": [
    {
     "name": "stdout",
     "output_type": "stream",
     "text": [
      "epoch: 0   ,    accuracy_score: 0.9874175514678716\n",
      "epoch: 1   ,    accuracy_score: 0.9874223969279783\n",
      "epoch: 2   ,    accuracy_score: 0.9874084662301714\n",
      "epoch: 3   ,    accuracy_score: 0.9874096775951982\n",
      "epoch: 4   ,    accuracy_score: 0.9873866616596912\n",
      "epoch: 5   ,    accuracy_score: 0.9873751536919377\n",
      "epoch: 6   ,    accuracy_score: 0.9874266367055716\n",
      "epoch: 7   ,    accuracy_score: 0.9873478979788375\n",
      "epoch: 8   ,    accuracy_score: 0.9873818161995845\n",
      "epoch: 9   ,    accuracy_score: 0.9873660684542377\n"
     ]
    },
    {
     "data": {
      "image/png": "[encoded data removed]",
      "text/plain": [
       "<Figure size 500x500 with 2 Axes>"
      ]
     },
     "metadata": {},
     "output_type": "display_data"
    }
   ],
   "source": [
    "clf = SGDClassifier(loss='hinge')\n",
    "for i in range(epochs):\n",
    "    clf.fit(x_train,y_train)\n",
    "    y_pred = clf.predict(x_train)\n",
    "    acc_score = accuracy_score(y_pred, y_train)\n",
    "    acc_score\n",
    "    print(\"epoch: {}   ,    accuracy_score: {}\".format(i,acc_score))\n",
    "\n",
    "svm_train_precision,svm_train_recall,svm_train_fscore,none= precision_recall_fscore_support(y_train, y_pred, average='weighted') \n",
    "\n",
    "cm=confusion_matrix(y_train,y_pred)\n",
    "f,ax=plt.subplots(figsize=(5,5))\n",
    "sns.heatmap(cm,annot=True,linewidth=0.5,linecolor=\"red\",fmt=\".0f\",ax=ax)\n",
    "plt.xlabel(\"y_pred\")\n",
    "plt.ylabel(\"y_true\")\n",
    "plt.show()\n"
   ]
  },
  {
   "cell_type": "code",
   "execution_count": 123,
   "metadata": {
    "id": "xqJiN9FrCHPB"
   },
   "outputs": [
    {
     "name": "stdout",
     "output_type": "stream",
     "text": [
      "              precision    recall  f1-score   support\n",
      "\n",
      "           0       1.00      0.99      0.99   1442045\n",
      "           1       0.92      0.99      0.95    208985\n",
      "\n",
      "    accuracy                           0.99   1651030\n",
      "   macro avg       0.96      0.99      0.97   1651030\n",
      "weighted avg       0.99      0.99      0.99   1651030\n",
      "\n"
     ]
    }
   ],
   "source": [
    "print(classification_report(y_train,y_pred))\n"
   ]
  },
  {
   "cell_type": "code",
   "execution_count": 124,
   "metadata": {
    "id": "SYIb7ZXZCJIa"
   },
   "outputs": [],
   "source": [
    "result_dict_train['name'].append(\"SVM\")\n",
    "result_dict_train['auc'].append(svm_train_precision)\n",
    "result_dict_train['f1'].append(svm_train_fscore)\n",
    "result_dict_train['recall'].append(svm_train_recall)"
   ]
  },
  {
   "cell_type": "code",
   "execution_count": 125,
   "metadata": {
    "id": "FNNx-xX8CLOk"
   },
   "outputs": [
    {
     "name": "stdout",
     "output_type": "stream",
     "text": [
      "accuracy_score: 0.9873860679829519\n"
     ]
    },
    {
     "data": {
      "image/png": "[encoded data removed]",
      "text/plain": [
       "<Figure size 500x500 with 2 Axes>"
      ]
     },
     "metadata": {},
     "output_type": "display_data"
    }
   ],
   "source": [
    "y_pred = clf.predict(x_test)\n",
    "acc_score = accuracy_score(y_pred, y_test)\n",
    "acc_score\n",
    "print(\"accuracy_score: {}\".format(acc_score))\n",
    "\n",
    "svm_test_precision,svm_test_recall,svm_test_fscore,none= precision_recall_fscore_support(y_test, y_pred, average='weighted') \n",
    "\n",
    "cm=confusion_matrix(y_test,y_pred)\n",
    "f,ax=plt.subplots(figsize=(5,5))\n",
    "sns.heatmap(cm,annot=True,linewidth=0.5,linecolor=\"red\",fmt=\".0f\",ax=ax)\n",
    "plt.xlabel(\"y_pred\")\n",
    "plt.ylabel(\"y_true\")\n",
    "plt.show()"
   ]
  },
  {
   "cell_type": "code",
   "execution_count": 126,
   "metadata": {
    "id": "e_z8h51YCNHm"
   },
   "outputs": [
    {
     "name": "stdout",
     "output_type": "stream",
     "text": [
      "              precision    recall  f1-score   support\n",
      "\n",
      "           0       1.00      0.99      0.99    776719\n",
      "           1       0.92      0.99      0.95    112298\n",
      "\n",
      "    accuracy                           0.99    889017\n",
      "   macro avg       0.96      0.99      0.97    889017\n",
      "weighted avg       0.99      0.99      0.99    889017\n",
      "\n"
     ]
    }
   ],
   "source": [
    "print(classification_report(y_test,y_pred))"
   ]
  },
  {
   "cell_type": "code",
   "execution_count": 127,
   "metadata": {
    "id": "6tkltc0zCRna"
   },
   "outputs": [],
   "source": [
    "result_dict_test['name'].append(\"SVM\")\n",
    "result_dict_test['auc'].append(svm_test_precision)\n",
    "result_dict_test['f1'].append(svm_test_fscore)\n",
    "result_dict_test['recall'].append(svm_test_recall)"
   ]
  },
  {
   "cell_type": "markdown",
   "metadata": {},
   "source": [
    "# Decision Tree Classifier"
   ]
  },
  {
   "cell_type": "code",
   "execution_count": 128,
   "metadata": {
    "id": "5mX2HuR1CTRW"
   },
   "outputs": [
    {
     "name": "stdout",
     "output_type": "stream",
     "text": [
      "epoch: 0   ,    accuracy_score: 0.9999618420016596\n",
      "epoch: 1   ,    accuracy_score: 0.9999618420016596\n",
      "epoch: 2   ,    accuracy_score: 0.9999618420016596\n",
      "epoch: 3   ,    accuracy_score: 0.9999618420016596\n",
      "epoch: 4   ,    accuracy_score: 0.9999618420016596\n",
      "epoch: 5   ,    accuracy_score: 0.9999618420016596\n",
      "epoch: 6   ,    accuracy_score: 0.9999618420016596\n",
      "epoch: 7   ,    accuracy_score: 0.9999618420016596\n",
      "epoch: 8   ,    accuracy_score: 0.9999618420016596\n",
      "epoch: 9   ,    accuracy_score: 0.9999618420016596\n"
     ]
    },
    {
     "data": {
      "image/png": "[encoded data removed]",
      "text/plain": [
       "<Figure size 500x500 with 2 Axes>"
      ]
     },
     "metadata": {},
     "output_type": "display_data"
    }
   ],
   "source": [
    "# DT classifier\n",
    "from sklearn.metrics import precision_recall_fscore_support\n",
    "from sklearn.metrics import classification_report\n",
    "\n",
    "\n",
    "clf = DecisionTreeClassifier()\n",
    "for i in range(10):\n",
    "    clf.fit(x_train,y_train)\n",
    "    y_pred = clf.predict(x_train)\n",
    "    acc_score = accuracy_score(y_pred, y_train)\n",
    "    acc_score\n",
    "    print(\"epoch: {}   ,    accuracy_score: {}\".format(i,acc_score))\n",
    "\n",
    "dt_train_precision,dt_train_recall,dt_train_fscore,none= precision_recall_fscore_support(y_train, y_pred, average='weighted') \n",
    "\n",
    "cm=confusion_matrix(y_train,y_pred)\n",
    "f,ax=plt.subplots(figsize=(5,5))\n",
    "sns.heatmap(cm,annot=True,linewidth=0.5,linecolor=\"red\",fmt=\".0f\",ax=ax)\n",
    "plt.xlabel(\"y_pred\")\n",
    "plt.ylabel(\"y_true\")\n",
    "plt.show()\n"
   ]
  },
  {
   "cell_type": "code",
   "execution_count": 129,
   "metadata": {
    "id": "LR987crtCYwq"
   },
   "outputs": [
    {
     "name": "stdout",
     "output_type": "stream",
     "text": [
      "              precision    recall  f1-score   support\n",
      "\n",
      "           0       1.00      1.00      1.00   1442045\n",
      "           1       1.00      1.00      1.00    208985\n",
      "\n",
      "    accuracy                           1.00   1651030\n",
      "   macro avg       1.00      1.00      1.00   1651030\n",
      "weighted avg       1.00      1.00      1.00   1651030\n",
      "\n"
     ]
    }
   ],
   "source": [
    "print(classification_report(y_train,y_pred))\n"
   ]
  },
  {
   "cell_type": "code",
   "execution_count": 160,
   "metadata": {},
   "outputs": [],
   "source": [
    "# Check the validation score\n",
    "from sklearn.model_selection import learning_curve\n",
    "\n",
    "train_sizes_abs, train_scores, valid_scores =  learning_curve(DecisionTreeClassifier(max_depth=2), x_train, y_train)"
   ]
  },
  {
   "cell_type": "code",
   "execution_count": 161,
   "metadata": {},
   "outputs": [
    {
     "data": {
      "text/plain": [
       "array([[0.98210203, 0.98225345, 0.98225345, 0.98225345, 0.98225345],\n",
       "       [0.98209739, 0.98212068, 0.98214631, 0.98214631, 0.98214631],\n",
       "       [0.98217228, 0.98218467, 0.98218329, 0.98214888, 0.98214888],\n",
       "       [0.98226912, 0.98227303, 0.98227694, 0.98222125, 0.98218609],\n",
       "       [0.98238827, 0.9823913 , 0.98239432, 0.98234965, 0.98223609]])"
      ]
     },
     "execution_count": 161,
     "metadata": {},
     "output_type": "execute_result"
    }
   ],
   "source": [
    "train_scores"
   ]
  },
  {
   "cell_type": "code",
   "execution_count": 162,
   "metadata": {},
   "outputs": [
    {
     "data": {
      "text/plain": [
       "array([[0.98220202, 0.98218082, 0.98218991, 0.98235041, 0.98281073],\n",
       "       [0.98221413, 0.98218385, 0.98219293, 0.98232618, 0.9828077 ],\n",
       "       [0.98219596, 0.98218385, 0.98217779, 0.98232618, 0.9828077 ],\n",
       "       [0.98220202, 0.98218991, 0.98217779, 0.98232618, 0.9828077 ],\n",
       "       [0.98220202, 0.98218991, 0.98217779, 0.98232618, 0.98281073]])"
      ]
     },
     "execution_count": 162,
     "metadata": {},
     "output_type": "execute_result"
    }
   ],
   "source": [
    "valid_scores"
   ]
  },
  {
   "cell_type": "code",
   "execution_count": 166,
   "metadata": {},
   "outputs": [
    {
     "data": {
      "text/plain": [
       "array([ 132082,  429267,  726453, 1023638, 1320824])"
      ]
     },
     "execution_count": 166,
     "metadata": {},
     "output_type": "execute_result"
    }
   ],
   "source": [
    "train_sizes_abs"
   ]
  },
  {
   "cell_type": "code",
   "execution_count": 170,
   "metadata": {},
   "outputs": [
    {
     "data": {
      "text/plain": [
       "<matplotlib.legend.Legend at 0x2e1eb4100>"
      ]
     },
     "execution_count": 170,
     "metadata": {},
     "output_type": "execute_result"
    },
    {
     "data": {
      "image/png": "[encoded data removed]",
      "text/plain": [
       "<Figure size 640x480 with 1 Axes>"
      ]
     },
     "metadata": {},
     "output_type": "display_data"
    }
   ],
   "source": [
    "# plot validation chart\n",
    "\n",
    "# plot_data_count = len(train_scores[0])\n",
    "# plot_data = []\n",
    "# for itr in range(plot_data_count):\n",
    "#     plot_data.append([train_scores[0][itr],valid_scores[0][itr]])\n",
    "    \n",
    "# decision_trees_df = pd.DataFrame(plot_data,columns=['training','validation'])\n",
    "# plot1 = decision_trees_df.plot()\n",
    "# plot1.set_ylim(0.96,1.0)\n",
    "\n",
    "# Check the validation score\n",
    "from sklearn.model_selection import learning_curve\n",
    "\n",
    "train_sizes_abs, train_scores, valid_scores =  learning_curve(DecisionTreeClassifier(max_depth=2), x_train, y_train)\n",
    "\n",
    "plt.plot(train_sizes_abs,np.mean(train_scores,axis=1),label=\"training\")\n",
    "plt.plot(train_sizes_abs,np.mean(valid_scores,axis=1),label=\"validation\")\n",
    "plt.ylabel(\"Accuracy\")\n",
    "plt.xlabel(\"Data set size in millions\")\n",
    "plt.legend()"
   ]
  },
  {
   "cell_type": "code",
   "execution_count": 130,
   "metadata": {
    "id": "LMf1u628Caxk"
   },
   "outputs": [],
   "source": [
    "result_dict_train['name'].append(\"DT\")\n",
    "result_dict_train['auc'].append(dt_train_precision)\n",
    "result_dict_train['f1'].append(dt_train_fscore)\n",
    "result_dict_train['recall'].append(dt_train_recall)"
   ]
  },
  {
   "cell_type": "code",
   "execution_count": 131,
   "metadata": {
    "id": "5f8n-ve1CclM"
   },
   "outputs": [
    {
     "name": "stdout",
     "output_type": "stream",
     "text": [
      "accuracy_score: 0.9945681578642478\n"
     ]
    },
    {
     "data": {
      "image/png": "[encoded data removed]",
      "text/plain": [
       "<Figure size 500x500 with 2 Axes>"
      ]
     },
     "metadata": {},
     "output_type": "display_data"
    }
   ],
   "source": [
    "y_pred = clf.predict(x_test)\n",
    "acc_score = accuracy_score(y_pred, y_test)\n",
    "acc_score\n",
    "print(\"accuracy_score: {}\".format(acc_score))\n",
    "\n",
    "dt_test_precision,dt_test_recall,dt_test_fscore,none= precision_recall_fscore_support(y_test, y_pred, average='weighted') \n",
    "\n",
    "cm=confusion_matrix(y_test,y_pred)\n",
    "f,ax=plt.subplots(figsize=(5,5))\n",
    "sns.heatmap(cm,annot=True,linewidth=0.5,linecolor=\"red\",fmt=\".0f\",ax=ax)\n",
    "plt.xlabel(\"y_pred\")\n",
    "plt.ylabel(\"y_true\")\n",
    "plt.show()"
   ]
  },
  {
   "cell_type": "code",
   "execution_count": 132,
   "metadata": {
    "id": "eqRwSIp5CgPH"
   },
   "outputs": [
    {
     "name": "stdout",
     "output_type": "stream",
     "text": [
      "              precision    recall  f1-score   support\n",
      "\n",
      "           0       1.00      1.00      1.00    776719\n",
      "           1       0.98      0.98      0.98    112298\n",
      "\n",
      "    accuracy                           0.99    889017\n",
      "   macro avg       0.99      0.99      0.99    889017\n",
      "weighted avg       0.99      0.99      0.99    889017\n",
      "\n"
     ]
    }
   ],
   "source": [
    "print(classification_report(y_test,y_pred))"
   ]
  },
  {
   "cell_type": "code",
   "execution_count": 133,
   "metadata": {
    "id": "pp-XLzYECidN"
   },
   "outputs": [],
   "source": [
    "result_dict_test['name'].append(\"DT\")\n",
    "result_dict_test['auc'].append(dt_test_precision)\n",
    "result_dict_test['f1'].append(dt_test_fscore)\n",
    "result_dict_test['recall'].append(dt_test_recall)"
   ]
  },
  {
   "cell_type": "markdown",
   "metadata": {},
   "source": [
    "# Random Forest Classifier"
   ]
  },
  {
   "cell_type": "code",
   "execution_count": 134,
   "metadata": {
    "id": "JhNPFnePCmEe"
   },
   "outputs": [
    {
     "name": "stdout",
     "output_type": "stream",
     "text": [
      "epoch: 0   ,    accuracy_score: 0.9703482068769193\n",
      "epoch: 1   ,    accuracy_score: 0.971154370302175\n",
      "epoch: 2   ,    accuracy_score: 0.9704202830960067\n",
      "epoch: 3   ,    accuracy_score: 0.9703700114473995\n",
      "epoch: 4   ,    accuracy_score: 0.9705014445527943\n",
      "epoch: 5   ,    accuracy_score: 0.9705038672828477\n",
      "epoch: 6   ,    accuracy_score: 0.9709756939607397\n",
      "epoch: 7   ,    accuracy_score: 0.9703863648752596\n",
      "epoch: 8   ,    accuracy_score: 0.9694402887894223\n",
      "epoch: 9   ,    accuracy_score: 0.9704426933490004\n"
     ]
    },
    {
     "data": {
      "image/png": "[encoded data removed]",
      "text/plain": [
       "<Figure size 500x500 with 2 Axes>"
      ]
     },
     "metadata": {},
     "output_type": "display_data"
    }
   ],
   "source": [
    "# Classifier Name\n",
    "clf = RandomForestClassifier(max_depth=2)\n",
    "for i in range(10):\n",
    "    clf.fit(x_train,y_train)\n",
    "    y_pred = clf.predict(x_train)\n",
    "    acc_score = accuracy_score(y_pred, y_train)\n",
    "    acc_score\n",
    "    print(\"epoch: {}   ,    accuracy_score: {}\".format(i,acc_score))\n",
    "\n",
    "rf_train_precision,rf_train_recall,rf_train_fscore,none= precision_recall_fscore_support(y_train, y_pred, average='weighted') \n",
    "\n",
    "cm=confusion_matrix(y_train,y_pred)\n",
    "f,ax=plt.subplots(figsize=(5,5))\n",
    "sns.heatmap(cm,annot=True,linewidth=0.5,linecolor=\"red\",fmt=\".0f\",ax=ax)\n",
    "plt.xlabel(\"y_pred\")\n",
    "plt.ylabel(\"y_true\")\n",
    "plt.show()"
   ]
  },
  {
   "cell_type": "code",
   "execution_count": 135,
   "metadata": {
    "id": "SrZwrnPMCn-W"
   },
   "outputs": [
    {
     "name": "stdout",
     "output_type": "stream",
     "text": [
      "<function classification_report at 0x12a6e4430>\n"
     ]
    }
   ],
   "source": [
    "print(classification_report)"
   ]
  },
  {
   "cell_type": "code",
   "execution_count": 138,
   "metadata": {},
   "outputs": [
    {
     "data": {
      "text/plain": [
       "{'bootstrap': True,\n",
       " 'ccp_alpha': 0.0,\n",
       " 'class_weight': None,\n",
       " 'criterion': 'gini',\n",
       " 'max_depth': 2,\n",
       " 'max_features': 'sqrt',\n",
       " 'max_leaf_nodes': None,\n",
       " 'max_samples': None,\n",
       " 'min_impurity_decrease': 0.0,\n",
       " 'min_samples_leaf': 1,\n",
       " 'min_samples_split': 2,\n",
       " 'min_weight_fraction_leaf': 0.0,\n",
       " 'n_estimators': 100,\n",
       " 'n_jobs': None,\n",
       " 'oob_score': False,\n",
       " 'random_state': None,\n",
       " 'verbose': 0,\n",
       " 'warm_start': False}"
      ]
     },
     "execution_count": 138,
     "metadata": {},
     "output_type": "execute_result"
    }
   ],
   "source": [
    "rfcl = RandomForestClassifier(max_depth=2)\n",
    "rfcl.get_params()"
   ]
  },
  {
   "cell_type": "code",
   "execution_count": 171,
   "metadata": {
    "id": "1LBxxYTBCszN"
   },
   "outputs": [],
   "source": [
    "result_dict_train['name'].append(\"RF\")\n",
    "result_dict_train['auc'].append(rf_train_precision)\n",
    "result_dict_train['f1'].append(rf_train_fscore)\n",
    "result_dict_train['recall'].append(rf_train_recall)"
   ]
  },
  {
   "cell_type": "code",
   "execution_count": 172,
   "metadata": {
    "id": "u_hEbIhiCvJM"
   },
   "outputs": [],
   "source": [
    "result_dict_train = pd.DataFrame.from_dict(result_dict_train)\n"
   ]
  },
  {
   "cell_type": "code",
   "execution_count": 173,
   "metadata": {
    "id": "-RzaskK_CxmP"
   },
   "outputs": [
    {
     "name": "stdout",
     "output_type": "stream",
     "text": [
      "accuracy_score: 0.9707609640760525\n",
      "Precision of RF Classifier : 0.9709516214698038\n",
      "Recall of RF Classifier : 0.9707609640760525\n",
      "F1-score of RF Classifier : 0.9693801257124275\n"
     ]
    },
    {
     "data": {
      "image/png": "[encoded data removed]",
      "text/plain": [
       "<Figure size 500x500 with 2 Axes>"
      ]
     },
     "metadata": {},
     "output_type": "display_data"
    }
   ],
   "source": [
    "y_pred = clf.predict(x_test)\n",
    "acc_score = accuracy_score(y_pred, y_test)\n",
    "acc_score\n",
    "print(\"accuracy_score: {}\".format(acc_score))\n",
    "\n",
    "rf_test_precision,rf_test_recall,rf_test_fscore,none= precision_recall_fscore_support(y_test, y_pred, average='weighted') \n",
    "print('Precision of RF Classifier : '+(str(rf_test_precision)))\n",
    "print('Recall of RF Classifier : '+(str(rf_test_recall)))\n",
    "print('F1-score of RF Classifier : '+(str(rf_test_fscore)))\n",
    "cm=confusion_matrix(y_test,y_pred)\n",
    "f,ax=plt.subplots(figsize=(5,5))\n",
    "sns.heatmap(cm,annot=True,linewidth=0.5,linecolor=\"red\",fmt=\".0f\",ax=ax)\n",
    "plt.xlabel(\"y_pred\")\n",
    "plt.ylabel(\"y_true\")\n",
    "plt.show()"
   ]
  },
  {
   "cell_type": "code",
   "execution_count": 174,
   "metadata": {
    "id": "6WQXneO8C1bB"
   },
   "outputs": [
    {
     "name": "stdout",
     "output_type": "stream",
     "text": [
      "              precision    recall  f1-score   support\n",
      "\n",
      "           0       0.97      1.00      0.98    776719\n",
      "           1       0.98      0.79      0.87    112298\n",
      "\n",
      "    accuracy                           0.97    889017\n",
      "   macro avg       0.97      0.89      0.93    889017\n",
      "weighted avg       0.97      0.97      0.97    889017\n",
      "\n"
     ]
    }
   ],
   "source": [
    "print(classification_report(y_test,y_pred))"
   ]
  },
  {
   "cell_type": "code",
   "execution_count": 175,
   "metadata": {
    "id": "63hvYEw9C3be"
   },
   "outputs": [],
   "source": [
    "result_dict_test['name'].append(\"RF\")\n",
    "result_dict_test['auc'].append(rf_test_precision)\n",
    "result_dict_test['f1'].append(rf_test_fscore)\n",
    "result_dict_test['recall'].append(rf_test_recall)"
   ]
  },
  {
   "cell_type": "code",
   "execution_count": 176,
   "metadata": {
    "id": "qGhnF-bOC7O5"
   },
   "outputs": [],
   "source": [
    "result_dict_test = pd.DataFrame.from_dict(result_dict_test)"
   ]
  },
  {
   "cell_type": "code",
   "execution_count": 177,
   "metadata": {
    "id": "AgXPZc1WC-I3"
   },
   "outputs": [
    {
     "data": {
      "text/html": [
       "<div>\n",
       "<style scoped>\n",
       "    .dataframe tbody tr th:only-of-type {\n",
       "        vertical-align: middle;\n",
       "    }\n",
       "\n",
       "    .dataframe tbody tr th {\n",
       "        vertical-align: top;\n",
       "    }\n",
       "\n",
       "    .dataframe thead th {\n",
       "        text-align: right;\n",
       "    }\n",
       "</style>\n",
       "<table border=\"1\" class=\"dataframe\">\n",
       "  <thead>\n",
       "    <tr style=\"text-align: right;\">\n",
       "      <th></th>\n",
       "      <th>name</th>\n",
       "      <th>auc</th>\n",
       "      <th>f1</th>\n",
       "      <th>recall</th>\n",
       "    </tr>\n",
       "  </thead>\n",
       "  <tbody>\n",
       "    <tr>\n",
       "      <th>0</th>\n",
       "      <td>LR with l2 penalty</td>\n",
       "      <td>0.987614</td>\n",
       "      <td>0.987426</td>\n",
       "      <td>0.987328</td>\n",
       "    </tr>\n",
       "    <tr>\n",
       "      <th>1</th>\n",
       "      <td>Logistic Regression with l1 penalty</td>\n",
       "      <td>0.986899</td>\n",
       "      <td>0.986868</td>\n",
       "      <td>0.986843</td>\n",
       "    </tr>\n",
       "    <tr>\n",
       "      <th>2</th>\n",
       "      <td>Logistic Regression with l1 penalty</td>\n",
       "      <td>0.987396</td>\n",
       "      <td>0.987404</td>\n",
       "      <td>0.987412</td>\n",
       "    </tr>\n",
       "    <tr>\n",
       "      <th>3</th>\n",
       "      <td>SVM</td>\n",
       "      <td>0.988204</td>\n",
       "      <td>0.987574</td>\n",
       "      <td>0.987366</td>\n",
       "    </tr>\n",
       "    <tr>\n",
       "      <th>4</th>\n",
       "      <td>DT</td>\n",
       "      <td>0.999962</td>\n",
       "      <td>0.999962</td>\n",
       "      <td>0.999962</td>\n",
       "    </tr>\n",
       "    <tr>\n",
       "      <th>5</th>\n",
       "      <td>RF</td>\n",
       "      <td>0.970635</td>\n",
       "      <td>0.969034</td>\n",
       "      <td>0.970443</td>\n",
       "    </tr>\n",
       "  </tbody>\n",
       "</table>\n",
       "</div>"
      ],
      "text/plain": [
       "                                  name       auc        f1    recall\n",
       "0                   LR with l2 penalty  0.987614  0.987426  0.987328\n",
       "1  Logistic Regression with l1 penalty  0.986899  0.986868  0.986843\n",
       "2  Logistic Regression with l1 penalty  0.987396  0.987404  0.987412\n",
       "3                                  SVM  0.988204  0.987574  0.987366\n",
       "4                                   DT  0.999962  0.999962  0.999962\n",
       "5                                   RF  0.970635  0.969034  0.970443"
      ]
     },
     "execution_count": 177,
     "metadata": {},
     "output_type": "execute_result"
    }
   ],
   "source": [
    "result_dict_train"
   ]
  },
  {
   "cell_type": "code",
   "execution_count": 178,
   "metadata": {
    "id": "kx-ZnxdHC-rw"
   },
   "outputs": [
    {
     "data": {
      "text/html": [
       "<div>\n",
       "<style scoped>\n",
       "    .dataframe tbody tr th:only-of-type {\n",
       "        vertical-align: middle;\n",
       "    }\n",
       "\n",
       "    .dataframe tbody tr th {\n",
       "        vertical-align: top;\n",
       "    }\n",
       "\n",
       "    .dataframe thead th {\n",
       "        text-align: right;\n",
       "    }\n",
       "</style>\n",
       "<table border=\"1\" class=\"dataframe\">\n",
       "  <thead>\n",
       "    <tr style=\"text-align: right;\">\n",
       "      <th></th>\n",
       "      <th>name</th>\n",
       "      <th>auc</th>\n",
       "      <th>f1</th>\n",
       "      <th>recall</th>\n",
       "    </tr>\n",
       "  </thead>\n",
       "  <tbody>\n",
       "    <tr>\n",
       "      <th>0</th>\n",
       "      <td>LR with l2 penalty</td>\n",
       "      <td>0.987662</td>\n",
       "      <td>0.987475</td>\n",
       "      <td>0.987378</td>\n",
       "    </tr>\n",
       "    <tr>\n",
       "      <th>1</th>\n",
       "      <td>LR with l1 penalty</td>\n",
       "      <td>0.986973</td>\n",
       "      <td>0.986946</td>\n",
       "      <td>0.986923</td>\n",
       "    </tr>\n",
       "    <tr>\n",
       "      <th>2</th>\n",
       "      <td>LR with l1 penalty</td>\n",
       "      <td>0.987316</td>\n",
       "      <td>0.987326</td>\n",
       "      <td>0.987337</td>\n",
       "    </tr>\n",
       "    <tr>\n",
       "      <th>3</th>\n",
       "      <td>LR with l1 penalty</td>\n",
       "      <td>0.987316</td>\n",
       "      <td>0.987326</td>\n",
       "      <td>0.987337</td>\n",
       "    </tr>\n",
       "    <tr>\n",
       "      <th>4</th>\n",
       "      <td>SVM</td>\n",
       "      <td>0.988214</td>\n",
       "      <td>0.987592</td>\n",
       "      <td>0.987386</td>\n",
       "    </tr>\n",
       "    <tr>\n",
       "      <th>5</th>\n",
       "      <td>DT</td>\n",
       "      <td>0.994567</td>\n",
       "      <td>0.994568</td>\n",
       "      <td>0.994568</td>\n",
       "    </tr>\n",
       "    <tr>\n",
       "      <th>6</th>\n",
       "      <td>RF</td>\n",
       "      <td>0.970952</td>\n",
       "      <td>0.969380</td>\n",
       "      <td>0.970761</td>\n",
       "    </tr>\n",
       "  </tbody>\n",
       "</table>\n",
       "</div>"
      ],
      "text/plain": [
       "                 name       auc        f1    recall\n",
       "0  LR with l2 penalty  0.987662  0.987475  0.987378\n",
       "1  LR with l1 penalty  0.986973  0.986946  0.986923\n",
       "2  LR with l1 penalty  0.987316  0.987326  0.987337\n",
       "3  LR with l1 penalty  0.987316  0.987326  0.987337\n",
       "4                 SVM  0.988214  0.987592  0.987386\n",
       "5                  DT  0.994567  0.994568  0.994568\n",
       "6                  RF  0.970952  0.969380  0.970761"
      ]
     },
     "execution_count": 178,
     "metadata": {},
     "output_type": "execute_result"
    }
   ],
   "source": [
    "result_dict_test"
   ]
  },
  {
   "cell_type": "code",
   "execution_count": 179,
   "metadata": {},
   "outputs": [
    {
     "data": {
      "text/plain": [
       "{'name': {0: 'LR with l2 penalty',\n",
       "  1: 'LR with l1 penalty',\n",
       "  2: 'LR with l1 penalty',\n",
       "  3: 'LR with l1 penalty',\n",
       "  4: 'SVM',\n",
       "  5: 'DT',\n",
       "  6: 'RF'},\n",
       " 'auc': {0: 0.9876621526394751,\n",
       "  1: 0.9869733062585129,\n",
       "  2: 0.9873161928917975,\n",
       "  3: 0.9873161928917975,\n",
       "  4: 0.9882139341944866,\n",
       "  5: 0.9945668763916993,\n",
       "  6: 0.9709516214698038},\n",
       " 'f1': {0: 0.9874750710563669,\n",
       "  1: 0.9869456321044818,\n",
       "  2: 0.9873258424661364,\n",
       "  3: 0.9873258424661364,\n",
       "  4: 0.9875921353304994,\n",
       "  5: 0.9945675059649683,\n",
       "  6: 0.9693801257124275},\n",
       " 'recall': {0: 0.9873781941177727,\n",
       "  1: 0.986922634775263,\n",
       "  2: 0.9873365751161114,\n",
       "  3: 0.9873365751161114,\n",
       "  4: 0.9873860679829519,\n",
       "  5: 0.9945681578642478,\n",
       "  6: 0.9707609640760525}}"
      ]
     },
     "execution_count": 179,
     "metadata": {},
     "output_type": "execute_result"
    }
   ],
   "source": [
    "result_dict_test.to_dict()"
   ]
  },
  {
   "cell_type": "code",
   "execution_count": 196,
   "metadata": {},
   "outputs": [
    {
     "data": {
      "text/html": [
       "<div>\n",
       "<style scoped>\n",
       "    .dataframe tbody tr th:only-of-type {\n",
       "        vertical-align: middle;\n",
       "    }\n",
       "\n",
       "    .dataframe tbody tr th {\n",
       "        vertical-align: top;\n",
       "    }\n",
       "\n",
       "    .dataframe thead th {\n",
       "        text-align: right;\n",
       "    }\n",
       "</style>\n",
       "<table border=\"1\" class=\"dataframe\">\n",
       "  <thead>\n",
       "    <tr style=\"text-align: right;\">\n",
       "      <th></th>\n",
       "      <th>name</th>\n",
       "      <th>auc</th>\n",
       "      <th>f1</th>\n",
       "      <th>recall</th>\n",
       "    </tr>\n",
       "  </thead>\n",
       "  <tbody>\n",
       "    <tr>\n",
       "      <th>0</th>\n",
       "      <td>LR with l2 penalty</td>\n",
       "      <td>0.987614</td>\n",
       "      <td>0.987426</td>\n",
       "      <td>0.987328</td>\n",
       "    </tr>\n",
       "    <tr>\n",
       "      <th>1</th>\n",
       "      <td>Logistic Regression with l1 penalty</td>\n",
       "      <td>0.986899</td>\n",
       "      <td>0.986868</td>\n",
       "      <td>0.986843</td>\n",
       "    </tr>\n",
       "    <tr>\n",
       "      <th>3</th>\n",
       "      <td>SVM</td>\n",
       "      <td>0.988204</td>\n",
       "      <td>0.987574</td>\n",
       "      <td>0.987366</td>\n",
       "    </tr>\n",
       "    <tr>\n",
       "      <th>4</th>\n",
       "      <td>DT</td>\n",
       "      <td>0.999962</td>\n",
       "      <td>0.999962</td>\n",
       "      <td>0.999962</td>\n",
       "    </tr>\n",
       "    <tr>\n",
       "      <th>5</th>\n",
       "      <td>RF</td>\n",
       "      <td>0.970635</td>\n",
       "      <td>0.969034</td>\n",
       "      <td>0.970443</td>\n",
       "    </tr>\n",
       "  </tbody>\n",
       "</table>\n",
       "</div>"
      ],
      "text/plain": [
       "                                  name       auc        f1    recall\n",
       "0                   LR with l2 penalty  0.987614  0.987426  0.987328\n",
       "1  Logistic Regression with l1 penalty  0.986899  0.986868  0.986843\n",
       "3                                  SVM  0.988204  0.987574  0.987366\n",
       "4                                   DT  0.999962  0.999962  0.999962\n",
       "5                                   RF  0.970635  0.969034  0.970443"
      ]
     },
     "execution_count": 196,
     "metadata": {},
     "output_type": "execute_result"
    }
   ],
   "source": [
    "result_dict_train"
   ]
  },
  {
   "cell_type": "code",
   "execution_count": 195,
   "metadata": {},
   "outputs": [],
   "source": [
    "# removing redundant rows\n",
    "result_dict_train = result_dict_train.drop(backup.index[1])"
   ]
  },
  {
   "cell_type": "code",
   "execution_count": 192,
   "metadata": {},
   "outputs": [],
   "source": [
    "# removing redundant rows\n",
    "result_dict_test = result_dict_test.drop(backup.index[2])"
   ]
  },
  {
   "cell_type": "code",
   "execution_count": 200,
   "metadata": {},
   "outputs": [],
   "source": [
    "result_dict_train['name'] = result_dict_train['name'].replace(['Logistic Regression with l1 penalty'],'LR with l1 penalty')"
   ]
  },
  {
   "cell_type": "code",
   "execution_count": 201,
   "metadata": {},
   "outputs": [
    {
     "data": {
      "text/html": [
       "<div>\n",
       "<style scoped>\n",
       "    .dataframe tbody tr th:only-of-type {\n",
       "        vertical-align: middle;\n",
       "    }\n",
       "\n",
       "    .dataframe tbody tr th {\n",
       "        vertical-align: top;\n",
       "    }\n",
       "\n",
       "    .dataframe thead th {\n",
       "        text-align: right;\n",
       "    }\n",
       "</style>\n",
       "<table border=\"1\" class=\"dataframe\">\n",
       "  <thead>\n",
       "    <tr style=\"text-align: right;\">\n",
       "      <th></th>\n",
       "      <th>name</th>\n",
       "      <th>auc</th>\n",
       "      <th>f1</th>\n",
       "      <th>recall</th>\n",
       "    </tr>\n",
       "  </thead>\n",
       "  <tbody>\n",
       "    <tr>\n",
       "      <th>0</th>\n",
       "      <td>LR with l2 penalty</td>\n",
       "      <td>0.987614</td>\n",
       "      <td>0.987426</td>\n",
       "      <td>0.987328</td>\n",
       "    </tr>\n",
       "    <tr>\n",
       "      <th>1</th>\n",
       "      <td>LR with l1 penalty</td>\n",
       "      <td>0.986899</td>\n",
       "      <td>0.986868</td>\n",
       "      <td>0.986843</td>\n",
       "    </tr>\n",
       "    <tr>\n",
       "      <th>3</th>\n",
       "      <td>SVM</td>\n",
       "      <td>0.988204</td>\n",
       "      <td>0.987574</td>\n",
       "      <td>0.987366</td>\n",
       "    </tr>\n",
       "    <tr>\n",
       "      <th>4</th>\n",
       "      <td>DT</td>\n",
       "      <td>0.999962</td>\n",
       "      <td>0.999962</td>\n",
       "      <td>0.999962</td>\n",
       "    </tr>\n",
       "    <tr>\n",
       "      <th>5</th>\n",
       "      <td>RF</td>\n",
       "      <td>0.970635</td>\n",
       "      <td>0.969034</td>\n",
       "      <td>0.970443</td>\n",
       "    </tr>\n",
       "  </tbody>\n",
       "</table>\n",
       "</div>"
      ],
      "text/plain": [
       "                 name       auc        f1    recall\n",
       "0  LR with l2 penalty  0.987614  0.987426  0.987328\n",
       "1  LR with l1 penalty  0.986899  0.986868  0.986843\n",
       "3                 SVM  0.988204  0.987574  0.987366\n",
       "4                  DT  0.999962  0.999962  0.999962\n",
       "5                  RF  0.970635  0.969034  0.970443"
      ]
     },
     "execution_count": 201,
     "metadata": {},
     "output_type": "execute_result"
    }
   ],
   "source": [
    "result_dict_train"
   ]
  },
  {
   "cell_type": "code",
   "execution_count": 199,
   "metadata": {},
   "outputs": [
    {
     "data": {
      "text/html": [
       "<div>\n",
       "<style scoped>\n",
       "    .dataframe tbody tr th:only-of-type {\n",
       "        vertical-align: middle;\n",
       "    }\n",
       "\n",
       "    .dataframe tbody tr th {\n",
       "        vertical-align: top;\n",
       "    }\n",
       "\n",
       "    .dataframe thead th {\n",
       "        text-align: right;\n",
       "    }\n",
       "</style>\n",
       "<table border=\"1\" class=\"dataframe\">\n",
       "  <thead>\n",
       "    <tr style=\"text-align: right;\">\n",
       "      <th></th>\n",
       "      <th>name</th>\n",
       "      <th>auc</th>\n",
       "      <th>f1</th>\n",
       "      <th>recall</th>\n",
       "    </tr>\n",
       "  </thead>\n",
       "  <tbody>\n",
       "    <tr>\n",
       "      <th>0</th>\n",
       "      <td>LR with l2 penalty</td>\n",
       "      <td>0.987662</td>\n",
       "      <td>0.987475</td>\n",
       "      <td>0.987378</td>\n",
       "    </tr>\n",
       "    <tr>\n",
       "      <th>1</th>\n",
       "      <td>LR with l1 penalty</td>\n",
       "      <td>0.986973</td>\n",
       "      <td>0.986946</td>\n",
       "      <td>0.986923</td>\n",
       "    </tr>\n",
       "    <tr>\n",
       "      <th>4</th>\n",
       "      <td>SVM</td>\n",
       "      <td>0.988214</td>\n",
       "      <td>0.987592</td>\n",
       "      <td>0.987386</td>\n",
       "    </tr>\n",
       "    <tr>\n",
       "      <th>5</th>\n",
       "      <td>DT</td>\n",
       "      <td>0.994567</td>\n",
       "      <td>0.994568</td>\n",
       "      <td>0.994568</td>\n",
       "    </tr>\n",
       "    <tr>\n",
       "      <th>6</th>\n",
       "      <td>RF</td>\n",
       "      <td>0.970952</td>\n",
       "      <td>0.969380</td>\n",
       "      <td>0.970761</td>\n",
       "    </tr>\n",
       "  </tbody>\n",
       "</table>\n",
       "</div>"
      ],
      "text/plain": [
       "                 name       auc        f1    recall\n",
       "0  LR with l2 penalty  0.987662  0.987475  0.987378\n",
       "1  LR with l1 penalty  0.986973  0.986946  0.986923\n",
       "4                 SVM  0.988214  0.987592  0.987386\n",
       "5                  DT  0.994567  0.994568  0.994568\n",
       "6                  RF  0.970952  0.969380  0.970761"
      ]
     },
     "execution_count": 199,
     "metadata": {},
     "output_type": "execute_result"
    }
   ],
   "source": [
    "result_dict_test"
   ]
  },
  {
   "cell_type": "markdown",
   "metadata": {},
   "source": [
    "END OF THE CODE\n"
   ]
  }
 ],
 "metadata": {
  "colab": {
   "provenance": []
  },
  "gpuClass": "standard",
  "kernelspec": {
   "display_name": "Python 3 (ipykernel)",
   "language": "python",
   "name": "python3"
  },
  "language_info": {
   "codemirror_mode": {
    "name": "ipython",
    "version": 3
   },
   "file_extension": ".py",
   "mimetype": "text/x-python",
   "name": "python",
   "nbconvert_exporter": "python",
   "pygments_lexer": "ipython3",
   "version": "3.9.13"
  }
 },
 "nbformat": 4,
 "nbformat_minor": 4
}
